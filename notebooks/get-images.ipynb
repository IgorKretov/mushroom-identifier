{
 "cells": [
  {
   "cell_type": "markdown",
   "metadata": {},
   "source": [
    "This notebook is aimed to help in the download of images to be used to create the dataset."
   ]
  },
  {
   "cell_type": "code",
   "execution_count": 3,
   "metadata": {
    "ExecuteTime": {
     "end_time": "2019-10-13T20:34:02.821872Z",
     "start_time": "2019-10-13T20:34:02.816283Z"
    }
   },
   "outputs": [],
   "source": [
    "from pathlib import Path"
   ]
  },
  {
   "cell_type": "markdown",
   "metadata": {
    "ExecuteTime": {
     "end_time": "2019-10-13T20:32:39.513083Z",
     "start_time": "2019-10-13T20:32:39.506721Z"
    }
   },
   "source": [
    "# Download images (Google)"
   ]
  },
  {
   "cell_type": "markdown",
   "metadata": {},
   "source": [
    "To download the images from a Google search, pres <Ctl+Alt+J> and the Web Console window will appear. Type the following command:\n",
    " \n",
    "    urls = Array.from(document.querySelectorAll('.rg_di .rg_meta')).map(el=>JSON.parse(el.textContent).ou);\n",
    "    window.open('data:text/csv;charset=utf-8,' + escape(urls.join('\\n')));\n",
    "    \n",
    "This will open a dialog box asking to save the file. Save it with the name of the mushroom.\n",
    "\n",
    "**Note**: I used the latin name in order to filter the search.\n"
   ]
  },
  {
   "cell_type": "code",
   "execution_count": 4,
   "metadata": {
    "ExecuteTime": {
     "end_time": "2019-10-13T20:34:04.285331Z",
     "start_time": "2019-10-13T20:34:04.278801Z"
    }
   },
   "outputs": [],
   "source": [
    "data_path = Path.home() / 'CloudStation/data_science/01-python_lab/99_datasets/mushrooms'\n",
    "google_path = data_path / 'google'"
   ]
  },
  {
   "cell_type": "code",
   "execution_count": 5,
   "metadata": {
    "ExecuteTime": {
     "end_time": "2019-10-13T20:34:05.713020Z",
     "start_time": "2019-10-13T20:34:05.708416Z"
    }
   },
   "outputs": [],
   "source": [
    "csv_folder = google_path / 'csv'"
   ]
  },
  {
   "cell_type": "code",
   "execution_count": null,
   "metadata": {},
   "outputs": [],
   "source": [
    "for csv_file in csv_folder.iterdir():\n",
    "    print(f'Processing {csv_file.name} file...')\n",
    "    folder_name = train_folder / csv_file.stem\n",
    "    if not folder_name.is_dir() and (csv_file.suffix == '.csv'):\n",
    "        print(f'Creating folder {folder_name}...')\n",
    "        os.mkdir(folder_name)\n",
    "    if csv_file.suffix == '.csv':\n",
    "        print(f'Downloading {csv_file.stem} images...')\n",
    "        download_images(csv_file, folder_name)"
   ]
  },
  {
   "cell_type": "code",
   "execution_count": null,
   "metadata": {},
   "outputs": [],
   "source": []
  },
  {
   "cell_type": "code",
   "execution_count": null,
   "metadata": {},
   "outputs": [],
   "source": []
  }
 ],
 "metadata": {
  "kernelspec": {
   "display_name": "Python [conda env:fastai]",
   "language": "python",
   "name": "conda-env-fastai-py"
  },
  "language_info": {
   "codemirror_mode": {
    "name": "ipython",
    "version": 3
   },
   "file_extension": ".py",
   "mimetype": "text/x-python",
   "name": "python",
   "nbconvert_exporter": "python",
   "pygments_lexer": "ipython3",
   "version": "3.7.4"
  },
  "toc": {
   "base_numbering": 1,
   "nav_menu": {},
   "number_sections": true,
   "sideBar": true,
   "skip_h1_title": false,
   "title_cell": "Table of Contents",
   "title_sidebar": "Contents",
   "toc_cell": false,
   "toc_position": {},
   "toc_section_display": true,
   "toc_window_display": false
  }
 },
 "nbformat": 4,
 "nbformat_minor": 2
}
