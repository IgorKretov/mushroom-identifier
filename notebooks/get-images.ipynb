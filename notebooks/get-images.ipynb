{
 "cells": [
  {
   "cell_type": "markdown",
   "metadata": {},
   "source": [
    "This notebook is aimed to help in the download of images to be used to create the dataset."
   ]
  },
  {
   "cell_type": "code",
   "execution_count": 1,
   "metadata": {
    "ExecuteTime": {
     "end_time": "2019-11-09T22:48:31.515408Z",
     "start_time": "2019-11-09T22:48:26.370339Z"
    }
   },
   "outputs": [],
   "source": [
    "import os\n",
    "from pathlib import Path\n",
    "\n",
    "from fastai.vision import *"
   ]
  },
  {
   "cell_type": "markdown",
   "metadata": {
    "ExecuteTime": {
     "end_time": "2019-10-13T20:32:39.513083Z",
     "start_time": "2019-10-13T20:32:39.506721Z"
    }
   },
   "source": [
    "# Download images (Google)"
   ]
  },
  {
   "cell_type": "markdown",
   "metadata": {},
   "source": [
    "To download the images from a Google search, pres <Ctl+Alt+J> and the Web Console window will appear. Type the following command:\n",
    " \n",
    "    urls = Array.from(document.querySelectorAll('.rg_di .rg_meta')).map(el=>JSON.parse(el.textContent).ou);\n",
    "    window.open('data:text/csv;charset=utf-8,' + escape(urls.join('\\n')));\n",
    "    \n",
    "This will open a dialog box asking to save the file. Save it with the name of the mushroom.\n",
    "\n",
    "**Note**: I used the latin name in order to filter the search.\n"
   ]
  },
  {
   "cell_type": "code",
   "execution_count": 2,
   "metadata": {
    "ExecuteTime": {
     "end_time": "2019-11-09T22:48:42.955554Z",
     "start_time": "2019-11-09T22:48:42.944875Z"
    }
   },
   "outputs": [],
   "source": [
    "data_path = Path.home() / 'repos_github/mushroom-identifier/data'\n",
    "google_path = data_path / 'google'"
   ]
  },
  {
   "cell_type": "code",
   "execution_count": 3,
   "metadata": {
    "ExecuteTime": {
     "end_time": "2019-11-09T22:48:43.292898Z",
     "start_time": "2019-11-09T22:48:43.283422Z"
    }
   },
   "outputs": [],
   "source": [
    "csv_folder = google_path / 'csv'\n",
    "raw_folder = google_path / 'raw_images'"
   ]
  },
  {
   "cell_type": "code",
   "execution_count": 9,
   "metadata": {
    "ExecuteTime": {
     "end_time": "2019-10-20T07:11:32.995903Z",
     "start_time": "2019-10-20T07:08:50.873395Z"
    }
   },
   "outputs": [],
   "source": [
    "for csv_file in csv_folder.iterdir():\n",
    "    print(f'Processing {csv_file.name} file...')\n",
    "    folder_name = raw_folder / csv_file.stem\n",
    "    if not folder_name.is_dir() and (csv_file.suffix == '.csv'):\n",
    "        print(f'Creating folder {folder_name}...')\n",
    "        os.mkdir(folder_name)\n",
    "    if csv_file.suffix == '.csv':\n",
    "        print(f'Downloading {csv_file.stem} images...')\n",
    "        download_images(csv_file, folder_name)"
   ]
  },
  {
   "cell_type": "markdown",
   "metadata": {},
   "source": [
    "# Check image format, rename"
   ]
  },
  {
   "cell_type": "code",
   "execution_count": null,
   "metadata": {},
   "outputs": [],
   "source": [
    "def is_image(file, valid_img_types=['jpeg', 'png', 'tiff', 'bmp']):\n",
    "    \"\"\"\"\"\"\n",
    "    img_type = imghdr.what(file)\n",
    "    if (img_type not in valid_img_types) or (img_type is None):\n",
    "        if img_type is None:\n",
    "            try:\n",
    "                # import pdb; pdb.set_trace()\n",
    "                im=Image_PIL.open(file)\n",
    "                return True\n",
    "            except IOError:\n",
    "                return False\n",
    "        elif img_type not in valid_img_types:\n",
    "            return False\n",
    "    else:\n",
    "        return True"
   ]
  },
  {
   "cell_type": "code",
   "execution_count": null,
   "metadata": {},
   "outputs": [],
   "source": [
    "unknown_folder = test_train_path / '_unknown'\n",
    "unknown_folder"
   ]
  },
  {
   "cell_type": "code",
   "execution_count": null,
   "metadata": {},
   "outputs": [],
   "source": [
    "df_labels = pd.DataFrame(columns=['name', 'labels'])\n",
    "\n",
    "for mushroom in train_folder.iterdir():\n",
    "    try:\n",
    "        mushroom_ = mushroom.stem\n",
    "        print(f'- processing folder {mushroom}')\n",
    "        i = 0  # Initialize image count\n",
    "        j = 0  # Initialize bad image count\n",
    "        for image in mushroom.iterdir():\n",
    "            if is_image(image):\n",
    "                # rename image:\n",
    "                new_name = f'{mushroom_}_{str(i).zfill(4)}.jpg'\n",
    "                # Prevent overwriting previously downloaded images with same target name\n",
    "                while (train_folder / mushroom_ / new_name).exists():\n",
    "                    # import pdb; pdb.set_trace()\n",
    "                    i +=1\n",
    "                    new_name = f'{mushroom_}_{str(i).zfill(4)}.jpg'\n",
    "                os.rename(str(image), str(train_folder / mushroom_ / new_name ))\n",
    "                image = image.with_name(new_name)\n",
    "                dict_img = {\n",
    "                    'name': Path(mushroom_) / image.name,\n",
    "                    'labels': (f'{dict_mushrooms[mushroom_][\"latin\"]};'\n",
    "                               f'{dict_mushrooms[mushroom_][\"name\"]};'\n",
    "                               f'{dict_mushrooms[mushroom_][\"edibility\"]};'\n",
    "                               f'{dict_mushrooms[mushroom_][\"poisonous\"]};')  \n",
    "                }\n",
    "                df_labels = df_labels.append(dict_img, ignore_index=True)\n",
    "                i += 1\n",
    "            elif is_image(image) is False:\n",
    "                suffix = image.suffix\n",
    "                if image.suffix in ['mp4', 'gif', '.webp', '.ashx', '.webp']:\n",
    "                    print(f'Removing not an image file: {image}')\n",
    "                    #import pdb; pdb.set_trace()\n",
    "                    os.remove(image)\n",
    "                    #os.rename(str(image), str( unknown_folder / new_name ))\n",
    "                else:\n",
    "                    new_name = f'{mushroom_}_{str(j).zfill(4)}.{suffix}'\n",
    "                    j += 1\n",
    "                    print(f'Renaming corrupt image {image}')\n",
    "                    os.rename(str(image), str( unknown_folder / new_name ))   \n",
    "    except NotADirectoryError as e:\n",
    "        import pdb; pdb.set_trace()\n",
    "        if  '.DS_Store' in str(mushroom):\n",
    "            print(f'Removing .DS_Store file...')\n",
    "            #import pdb; pdb.set_trace()\n",
    "            os.remove(mushroom)\n",
    "        else:\n",
    "            print(e)\n"
   ]
  },
  {
   "cell_type": "code",
   "execution_count": null,
   "metadata": {},
   "outputs": [],
   "source": []
  },
  {
   "cell_type": "code",
   "execution_count": null,
   "metadata": {},
   "outputs": [],
   "source": []
  },
  {
   "cell_type": "code",
   "execution_count": null,
   "metadata": {},
   "outputs": [],
   "source": []
  }
 ],
 "metadata": {
  "kernelspec": {
   "display_name": "Python [conda env:fastai]",
   "language": "python",
   "name": "conda-env-fastai-py"
  },
  "language_info": {
   "codemirror_mode": {
    "name": "ipython",
    "version": 3
   },
   "file_extension": ".py",
   "mimetype": "text/x-python",
   "name": "python",
   "nbconvert_exporter": "python",
   "pygments_lexer": "ipython3",
   "version": "3.7.4"
  },
  "toc": {
   "base_numbering": 1,
   "nav_menu": {},
   "number_sections": true,
   "sideBar": true,
   "skip_h1_title": false,
   "title_cell": "Table of Contents",
   "title_sidebar": "Contents",
   "toc_cell": false,
   "toc_position": {},
   "toc_section_display": true,
   "toc_window_display": false
  }
 },
 "nbformat": 4,
 "nbformat_minor": 2
}
