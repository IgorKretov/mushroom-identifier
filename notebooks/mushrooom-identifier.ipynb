{
 "cells": [
  {
   "cell_type": "markdown",
   "metadata": {},
   "source": [
    "# Imports"
   ]
  },
  {
   "cell_type": "code",
   "execution_count": null,
   "metadata": {
    "ExecuteTime": {
     "end_time": "2019-10-08T20:10:53.889043Z",
     "start_time": "2019-10-08T20:10:53.097378Z"
    }
   },
   "outputs": [],
   "source": [
    "%reload_ext autoreload\n",
    "%autoreload 2\n",
    "%matplotlib inline"
   ]
  },
  {
   "cell_type": "code",
   "execution_count": null,
   "metadata": {
    "ExecuteTime": {
     "end_time": "2019-10-08T20:10:56.324674Z",
     "start_time": "2019-10-08T20:10:53.897290Z"
    }
   },
   "outputs": [],
   "source": [
    "import json\n",
    "from pathlib import Path\n",
    "from PIL import Image as Image_PIL\n",
    "import imghdr # built in module\n",
    "import numpy as np\n",
    "from fastai import *\n",
    "from fastai.vision import *\n",
    "from fastai.metrics import error_rate, accuracy"
   ]
  },
  {
   "cell_type": "code",
   "execution_count": null,
   "metadata": {
    "ExecuteTime": {
     "end_time": "2019-10-08T20:10:56.550316Z",
     "start_time": "2019-10-08T20:10:56.326943Z"
    }
   },
   "outputs": [],
   "source": [
    "!which python"
   ]
  },
  {
   "cell_type": "markdown",
   "metadata": {},
   "source": [
    "# Paths"
   ]
  },
  {
   "cell_type": "code",
   "execution_count": null,
   "metadata": {
    "ExecuteTime": {
     "end_time": "2019-10-08T20:10:59.428889Z",
     "start_time": "2019-10-08T20:10:59.341484Z"
    }
   },
   "outputs": [],
   "source": [
    "# Data\n",
    "data_path = Path.home() / 'CloudStation/data_science/01-python_lab/99_datasets/mushrooms'\n",
    "data_path_other = Path('../data')\n",
    "test_train_path = data_path / 'test_and_train'\n",
    "train_folder = test_train_path / 'train'\n",
    "test_folder = test_train_path / 'test'\n",
    "google_path = data_path / 'google'\n",
    "\n",
    "# Project\n",
    "project_path = Path.home() / 'repos_github/mushroom-identifier/'\n",
    "app_path = project_path / 'app'\n",
    "model_path = app_path / 'models'"
   ]
  },
  {
   "cell_type": "code",
   "execution_count": null,
   "metadata": {},
   "outputs": [],
   "source": [
    "model_path"
   ]
  },
  {
   "cell_type": "markdown",
   "metadata": {},
   "source": [
    "## Load the dictionary"
   ]
  },
  {
   "cell_type": "code",
   "execution_count": null,
   "metadata": {
    "ExecuteTime": {
     "end_time": "2019-10-07T16:19:47.410937Z",
     "start_time": "2019-10-07T16:19:47.344888Z"
    }
   },
   "outputs": [],
   "source": [
    "dict_mushrooms_path = data_path_other / 'dict_mushrooms.json'"
   ]
  },
  {
   "cell_type": "raw",
   "metadata": {
    "ExecuteTime": {
     "end_time": "2019-10-05T21:57:34.712397Z",
     "start_time": "2019-10-05T21:57:34.644328Z"
    }
   },
   "source": [
    "with open(dict_mushrooms_path, 'w') as fp:\n",
    "    json.dump(dict_mushrooms, fp, indent=4, sort_keys=True)"
   ]
  },
  {
   "cell_type": "code",
   "execution_count": null,
   "metadata": {
    "ExecuteTime": {
     "end_time": "2019-10-07T16:19:48.924562Z",
     "start_time": "2019-10-07T16:19:48.840785Z"
    }
   },
   "outputs": [],
   "source": [
    "with open(dict_mushrooms_path, 'r') as fp:\n",
    "    dict_mushrooms = json.load(fp)"
   ]
  },
  {
   "cell_type": "raw",
   "metadata": {
    "ExecuteTime": {
     "end_time": "2019-10-06T12:10:51.231830Z",
     "start_time": "2019-10-06T12:10:50.781573Z"
    }
   },
   "source": [
    "dict_mushrooms"
   ]
  },
  {
   "cell_type": "markdown",
   "metadata": {},
   "source": [
    "# Train the model"
   ]
  },
  {
   "cell_type": "raw",
   "metadata": {
    "ExecuteTime": {
     "end_time": "2019-09-29T15:09:33.156119Z",
     "start_time": "2019-09-29T15:09:32.916762Z"
    }
   },
   "source": [
    "df = pd.read_csv(data_path / 'mushrooms_train.csv')\n",
    "# df = df[['image_name', 'tags']]\n",
    "print(df.head())"
   ]
  },
  {
   "cell_type": "markdown",
   "metadata": {},
   "source": [
    "## Create `labels.csv` file"
   ]
  },
  {
   "cell_type": "code",
   "execution_count": null,
   "metadata": {
    "ExecuteTime": {
     "end_time": "2019-10-08T20:11:16.853857Z",
     "start_time": "2019-10-08T20:11:16.797189Z"
    }
   },
   "outputs": [],
   "source": [
    "dict_mushrooms_path = data_path_other / 'dict_muchrooms.json'"
   ]
  },
  {
   "cell_type": "code",
   "execution_count": null,
   "metadata": {
    "ExecuteTime": {
     "end_time": "2019-10-08T05:11:34.102530Z",
     "start_time": "2019-10-08T05:11:34.008601Z"
    }
   },
   "outputs": [],
   "source": [
    "def is_image(file, valid_img_types=['jpeg', 'png', 'tiff', 'bmp']):\n",
    "    \"\"\"\"\"\"\n",
    "    img_type = imghdr.what(file)\n",
    "    if (img_type not in valid_img_types) or (img_type is None):\n",
    "        if img_type is None:\n",
    "            try:\n",
    "                # import pdb; pdb.set_trace()\n",
    "                im=Image_PIL.open(file)\n",
    "                return True\n",
    "            except IOError:\n",
    "                return False\n",
    "        elif img_type not in valid_img_types:\n",
    "            return False\n",
    "    else:\n",
    "        return True"
   ]
  },
  {
   "cell_type": "code",
   "execution_count": null,
   "metadata": {
    "ExecuteTime": {
     "end_time": "2019-10-08T05:11:37.380954Z",
     "start_time": "2019-10-08T05:11:37.310660Z"
    }
   },
   "outputs": [],
   "source": [
    "unknown_folder = test_train_path / '_unknown'\n",
    "unknown_folder"
   ]
  },
  {
   "cell_type": "code",
   "execution_count": null,
   "metadata": {
    "ExecuteTime": {
     "end_time": "2019-10-08T05:12:09.416373Z",
     "start_time": "2019-10-08T05:11:37.962069Z"
    }
   },
   "outputs": [],
   "source": [
    "df_labels = pd.DataFrame(columns=['name', 'labels'])\n",
    "\n",
    "for mushroom in train_folder.iterdir():\n",
    "    try:\n",
    "        mushroom_ = mushroom.stem\n",
    "        print(f'- processing folder {mushroom}')\n",
    "        i = 0  # Initialize image count\n",
    "        j = 0  # Initialize bad image count\n",
    "        for image in mushroom.iterdir():\n",
    "            if is_image(image):\n",
    "                # rename image:\n",
    "                new_name = f'{mushroom_}_{str(i).zfill(4)}.jpg'\n",
    "                # Prevent overwriting previously downloaded images with same target name\n",
    "                while (train_folder / mushroom_ / new_name).exists():\n",
    "                    # import pdb; pdb.set_trace()\n",
    "                    i +=1\n",
    "                    new_name = f'{mushroom_}_{str(i).zfill(4)}.jpg'\n",
    "                os.rename(str(image), str(train_folder / mushroom_ / new_name ))\n",
    "                image = image.with_name(new_name)\n",
    "                dict_img = {\n",
    "                    'name': Path(mushroom_) / image.name,\n",
    "                    'labels': f'{dict_mushrooms[mushroom_][\"name\"]} ({dict_mushrooms[mushroom_][\"latin\"]}): ' +\\\n",
    "                            f'{dict_mushrooms[mushroom_][\"edibility\"]}',  \n",
    "                }\n",
    "                df_labels = df_labels.append(dict_img, ignore_index=True)\n",
    "                i += 1\n",
    "            elif is_image(image) is False:\n",
    "                suffix = image.suffix\n",
    "                if image.suffix in ['mp4', 'gif', '.webp', '.ashx', '.webp']:\n",
    "                    print(f'Removing not an image file: {image}')\n",
    "                    #import pdb; pdb.set_trace()\n",
    "                    os.remove(image)\n",
    "                    #os.rename(str(image), str( unknown_folder / new_name ))\n",
    "                else:\n",
    "                    new_name = f'{mushroom_}_{str(j).zfill(4)}.{suffix}'\n",
    "                    j += 1\n",
    "                    print(f'Renaming corrupt image {image}')\n",
    "                    os.rename(str(image), str( unknown_folder / new_name ))   \n",
    "    except NotADirectoryError as e:\n",
    "        import pdb; pdb.set_trace()\n",
    "        if  '.DS_Store' in str(mushroom):\n",
    "            print(f'Removing .DS_Store file...')\n",
    "            #import pdb; pdb.set_trace()\n",
    "            os.remove(mushroom)\n",
    "        else:\n",
    "            print(e)\n"
   ]
  },
  {
   "cell_type": "code",
   "execution_count": null,
   "metadata": {
    "ExecuteTime": {
     "end_time": "2019-10-07T16:21:41.027269Z",
     "start_time": "2019-10-07T16:21:40.857915Z"
    }
   },
   "outputs": [],
   "source": [
    "df_labels.to_csv(data_path_other / 'labels.csv', index=False)"
   ]
  },
  {
   "cell_type": "markdown",
   "metadata": {},
   "source": [
    "## generate databunch"
   ]
  },
  {
   "cell_type": "markdown",
   "metadata": {},
   "source": [
    "Add some data augmentation with `get_transforms`:"
   ]
  },
  {
   "cell_type": "code",
   "execution_count": null,
   "metadata": {
    "ExecuteTime": {
     "end_time": "2019-10-08T20:11:25.550670Z",
     "start_time": "2019-10-08T20:11:25.478890Z"
    }
   },
   "outputs": [],
   "source": [
    "tfms = get_transforms(\n",
    "    flip_vert=True,\n",
    "    max_lighting=0.1,\n",
    "    max_zoom=1.05,\n",
    "    max_warp=0.5\n",
    ")"
   ]
  },
  {
   "cell_type": "markdown",
   "metadata": {},
   "source": [
    "Define batch size, image size:"
   ]
  },
  {
   "cell_type": "code",
   "execution_count": null,
   "metadata": {
    "ExecuteTime": {
     "end_time": "2019-10-08T20:11:28.350536Z",
     "start_time": "2019-10-08T20:11:28.282710Z"
    }
   },
   "outputs": [],
   "source": [
    "bs = 32 # 64       # batch_size\n",
    "size = 128\n",
    "np.random.seed(42) # set random seed so we always get the same validation set"
   ]
  },
  {
   "cell_type": "markdown",
   "metadata": {},
   "source": [
    "Create an `ImageDataBunch` from `path` by splitting the data in folder and labelled in a file `csv_labels` between a training and validation set.\n",
    "\n",
    "Use `valid_pct` to indicate the percentage of the total images to use as the validation set. An optional test folder contains unlabelled data and suffix contains an optional suffix to add to the filenames in `csv_labels` (such as '.jpg').\n",
    "* `fn_col` is the index (or the name) of the the column containing the filenames and \n",
    "* `label_col` is the index (indices) (or the name(s)) of the column(s) containing the labels.\n",
    "* Use `header` to specify the format of the csv header, and\n",
    "* `delimiter` to specify a non-standard csv-field separator.\n",
    "\n",
    "In case your csv has no header, column parameters can only be specified as indices. If `label_delim` is passed, split what's in the label column according to that separator."
   ]
  },
  {
   "cell_type": "code",
   "execution_count": null,
   "metadata": {
    "ExecuteTime": {
     "end_time": "2019-10-08T20:11:31.339748Z",
     "start_time": "2019-10-08T20:11:31.264858Z"
    }
   },
   "outputs": [],
   "source": [
    "test_train_path"
   ]
  },
  {
   "cell_type": "markdown",
   "metadata": {
    "ExecuteTime": {
     "end_time": "2019-10-06T14:06:49.390394Z",
     "start_time": "2019-10-06T14:06:49.277461Z"
    }
   },
   "source": [
    "doc(ImageDataBunch)"
   ]
  },
  {
   "cell_type": "raw",
   "metadata": {
    "ExecuteTime": {
     "end_time": "2019-10-07T16:33:28.520619Z",
     "start_time": "2019-10-07T16:33:26.249246Z"
    },
    "scrolled": true
   },
   "source": [
    "img_data = ImageDataBunch.from_folder(\n",
    "    path=train_folder,\n",
    "    valid_pct=0.2,  \n",
    "    ds_tfms=get_transforms(),\n",
    "    size=size,\n",
    "    bs=bs,\n",
    ")"
   ]
  },
  {
   "cell_type": "code",
   "execution_count": null,
   "metadata": {
    "ExecuteTime": {
     "end_time": "2019-10-08T20:11:35.881716Z",
     "start_time": "2019-10-08T20:11:35.631306Z"
    }
   },
   "outputs": [],
   "source": [
    "src = (ImageList.from_folder(path=train_folder)\n",
    "       .split_by_rand_pct(0.2)\n",
    "       .label_from_folder())"
   ]
  },
  {
   "cell_type": "code",
   "execution_count": null,
   "metadata": {
    "ExecuteTime": {
     "end_time": "2019-10-08T20:11:45.757284Z",
     "start_time": "2019-10-08T20:11:42.020874Z"
    }
   },
   "outputs": [],
   "source": [
    "img_data = (src.transform(tfms, size=128)\n",
    "        .databunch()\n",
    "        .normalize(imagenet_stats))"
   ]
  },
  {
   "cell_type": "code",
   "execution_count": null,
   "metadata": {
    "ExecuteTime": {
     "end_time": "2019-10-07T16:33:32.756367Z",
     "start_time": "2019-10-07T16:33:30.205827Z"
    }
   },
   "outputs": [],
   "source": [
    "img_data.normalize(imagenet_stats)"
   ]
  },
  {
   "cell_type": "markdown",
   "metadata": {},
   "source": [
    "First image of the training dataset:"
   ]
  },
  {
   "cell_type": "code",
   "execution_count": null,
   "metadata": {
    "ExecuteTime": {
     "end_time": "2019-10-08T20:12:03.761644Z",
     "start_time": "2019-10-08T20:12:03.651226Z"
    }
   },
   "outputs": [],
   "source": [
    "img_data.train_ds[0]"
   ]
  },
  {
   "cell_type": "markdown",
   "metadata": {},
   "source": [
    "First image of the validation dataset:"
   ]
  },
  {
   "cell_type": "code",
   "execution_count": null,
   "metadata": {
    "ExecuteTime": {
     "end_time": "2019-10-07T16:35:46.328347Z",
     "start_time": "2019-10-07T16:35:46.166368Z"
    }
   },
   "outputs": [],
   "source": [
    "img_data.valid_ds[0]"
   ]
  },
  {
   "cell_type": "markdown",
   "metadata": {},
   "source": [
    "Show some images from the dataset:"
   ]
  },
  {
   "cell_type": "code",
   "execution_count": null,
   "metadata": {
    "ExecuteTime": {
     "end_time": "2019-10-07T16:36:00.367456Z",
     "start_time": "2019-10-07T16:35:57.381685Z"
    },
    "scrolled": true
   },
   "outputs": [],
   "source": [
    "img_data.show_batch(rows=3, figsize=(10,8))"
   ]
  },
  {
   "cell_type": "markdown",
   "metadata": {},
   "source": [
    "Number of classes in the dataset"
   ]
  },
  {
   "cell_type": "code",
   "execution_count": null,
   "metadata": {
    "ExecuteTime": {
     "end_time": "2019-10-06T20:43:02.489064Z",
     "start_time": "2019-10-06T20:43:02.425653Z"
    }
   },
   "outputs": [],
   "source": [
    "# Number of categories\n",
    "img_data.c"
   ]
  },
  {
   "cell_type": "code",
   "execution_count": null,
   "metadata": {
    "ExecuteTime": {
     "end_time": "2019-10-07T16:37:29.680711Z",
     "start_time": "2019-10-07T16:37:29.605468Z"
    },
    "scrolled": true
   },
   "outputs": [],
   "source": [
    "# Names of the categories\n",
    "img_data.classes"
   ]
  },
  {
   "cell_type": "markdown",
   "metadata": {
    "ExecuteTime": {
     "end_time": "2019-10-07T16:37:51.952349Z",
     "start_time": "2019-10-07T16:37:51.896387Z"
    }
   },
   "source": [
    "## Train the model, with image size=128 "
   ]
  },
  {
   "cell_type": "code",
   "execution_count": null,
   "metadata": {
    "ExecuteTime": {
     "end_time": "2019-10-06T20:43:10.401576Z",
     "start_time": "2019-10-06T20:43:09.523764Z"
    }
   },
   "outputs": [],
   "source": [
    "model = cnn_learner(img_data, models.resnet34, metrics=[accuracy, error_rate])"
   ]
  },
  {
   "cell_type": "code",
   "execution_count": null,
   "metadata": {
    "ExecuteTime": {
     "end_time": "2019-10-06T20:55:47.450755Z",
     "start_time": "2019-10-06T20:43:12.272155Z"
    }
   },
   "outputs": [],
   "source": [
    "model.fit_one_cycle(1)"
   ]
  },
  {
   "cell_type": "code",
   "execution_count": null,
   "metadata": {
    "ExecuteTime": {
     "end_time": "2019-10-07T05:21:54.002902Z",
     "start_time": "2019-10-07T05:21:53.563072Z"
    }
   },
   "outputs": [],
   "source": [
    "model.save(Path.home()/'mushrooms_1_cycle')"
   ]
  },
  {
   "cell_type": "code",
   "execution_count": null,
   "metadata": {},
   "outputs": [],
   "source": []
  },
  {
   "cell_type": "code",
   "execution_count": null,
   "metadata": {},
   "outputs": [],
   "source": [
    "model.fit_one_cycle(2)"
   ]
  },
  {
   "cell_type": "code",
   "execution_count": null,
   "metadata": {},
   "outputs": [],
   "source": [
    "model.save('train_7_cycles')"
   ]
  },
  {
   "cell_type": "code",
   "execution_count": null,
   "metadata": {
    "ExecuteTime": {
     "end_time": "2019-10-06T20:56:58.980394Z",
     "start_time": "2019-10-06T20:55:47.454185Z"
    }
   },
   "outputs": [],
   "source": [
    "interpret = ClassificationInterpretation.from_learner(model)"
   ]
  },
  {
   "cell_type": "code",
   "execution_count": null,
   "metadata": {
    "ExecuteTime": {
     "end_time": "2019-10-06T20:56:59.779393Z",
     "start_time": "2019-10-06T20:56:58.982996Z"
    },
    "scrolled": true
   },
   "outputs": [],
   "source": [
    "interpret.plot_top_losses(4, figsize=(20, 25))"
   ]
  },
  {
   "cell_type": "code",
   "execution_count": null,
   "metadata": {
    "ExecuteTime": {
     "end_time": "2019-10-06T20:57:02.079325Z",
     "start_time": "2019-10-06T20:56:59.781249Z"
    }
   },
   "outputs": [],
   "source": [
    "interpret.plot_confusion_matrix(figsize=(20,20), dpi=60)"
   ]
  },
  {
   "cell_type": "code",
   "execution_count": null,
   "metadata": {},
   "outputs": [],
   "source": [
    "model.lr_find()"
   ]
  },
  {
   "cell_type": "code",
   "execution_count": null,
   "metadata": {},
   "outputs": [],
   "source": [
    "model.recorder.plot()"
   ]
  },
  {
   "cell_type": "code",
   "execution_count": null,
   "metadata": {},
   "outputs": [],
   "source": [
    "model.unfreeze()\n",
    "model.fit_one_cycle(3, max_lr=slice(1e-03, 1e-02))"
   ]
  },
  {
   "cell_type": "code",
   "execution_count": null,
   "metadata": {},
   "outputs": [],
   "source": [
    "model.fit_one_cycle(5, max_lr=slice(1e-03, 1e-02))"
   ]
  },
  {
   "cell_type": "code",
   "execution_count": null,
   "metadata": {},
   "outputs": [],
   "source": [
    "model.save('stage-1-128-rn34_lr_8_cycles')"
   ]
  },
  {
   "cell_type": "markdown",
   "metadata": {},
   "source": [
    "## Train with image size=256"
   ]
  },
  {
   "cell_type": "code",
   "execution_count": null,
   "metadata": {
    "ExecuteTime": {
     "end_time": "2019-10-07T17:04:59.030205Z",
     "start_time": "2019-10-07T17:04:58.953815Z"
    }
   },
   "outputs": [],
   "source": [
    "size=256"
   ]
  },
  {
   "cell_type": "code",
   "execution_count": null,
   "metadata": {
    "ExecuteTime": {
     "end_time": "2019-10-07T17:05:05.656419Z",
     "start_time": "2019-10-07T17:05:01.096555Z"
    }
   },
   "outputs": [],
   "source": [
    "img_data = ImageDataBunch.from_folder(\n",
    "    path=train_folder,\n",
    "    valid_pct=0.2,  \n",
    "    ds_tfms=get_transforms(),\n",
    "    size=size,\n",
    "    bs=bs,\n",
    ")"
   ]
  },
  {
   "cell_type": "code",
   "execution_count": null,
   "metadata": {},
   "outputs": [],
   "source": [
    "model.data = img_data"
   ]
  },
  {
   "cell_type": "code",
   "execution_count": null,
   "metadata": {},
   "outputs": [],
   "source": [
    "Veure minut 51 aprox del video Lesson 3, \n",
    "Do some data augmentation.\n",
    "Create new databunch with images of size=256"
   ]
  },
  {
   "cell_type": "code",
   "execution_count": null,
   "metadata": {},
   "outputs": [],
   "source": [
    "model.freeze()\n",
    "model.lr_find()\n",
    "model.recorder.plot()"
   ]
  },
  {
   "cell_type": "code",
   "execution_count": null,
   "metadata": {},
   "outputs": [],
   "source": [
    "lr = 1e-3/2\n",
    "model.fit_one_cycle(2, slice(lr))"
   ]
  },
  {
   "cell_type": "code",
   "execution_count": null,
   "metadata": {},
   "outputs": [],
   "source": [
    "model.fit_one_cycle(3, slice(lr))"
   ]
  },
  {
   "cell_type": "code",
   "execution_count": null,
   "metadata": {},
   "outputs": [],
   "source": [
    "model.save('train_final5_cycles')"
   ]
  },
  {
   "cell_type": "code",
   "execution_count": null,
   "metadata": {},
   "outputs": [],
   "source": [
    "model.load('train_final5_cycles')"
   ]
  },
  {
   "cell_type": "code",
   "execution_count": null,
   "metadata": {},
   "outputs": [],
   "source": [
    "model.export('export_resnet34_model.pkl')"
   ]
  },
  {
   "cell_type": "markdown",
   "metadata": {},
   "source": [
    "# Test model with other images:"
   ]
  },
  {
   "cell_type": "code",
   "execution_count": null,
   "metadata": {},
   "outputs": [],
   "source": [
    "learn = load_learner(model_path)"
   ]
  },
  {
   "cell_type": "code",
   "execution_count": null,
   "metadata": {},
   "outputs": [],
   "source": [
    "image_path = Path.home() / 'rovello.jpg'"
   ]
  },
  {
   "cell_type": "code",
   "execution_count": null,
   "metadata": {},
   "outputs": [],
   "source": [
    "img = open_image(image_path)"
   ]
  },
  {
   "cell_type": "raw",
   "metadata": {},
   "source": [
    "img = open_image(BytesIO(image_path))"
   ]
  },
  {
   "cell_type": "code",
   "execution_count": null,
   "metadata": {},
   "outputs": [],
   "source": [
    "Path.home() / 'rovello.jpg'"
   ]
  },
  {
   "cell_type": "code",
   "execution_count": null,
   "metadata": {},
   "outputs": [],
   "source": [
    "learn.predict(img)"
   ]
  },
  {
   "cell_type": "code",
   "execution_count": null,
   "metadata": {},
   "outputs": [],
   "source": [
    "Path.home()"
   ]
  },
  {
   "cell_type": "code",
   "execution_count": null,
   "metadata": {},
   "outputs": [],
   "source": []
  },
  {
   "cell_type": "code",
   "execution_count": null,
   "metadata": {},
   "outputs": [],
   "source": []
  },
  {
   "cell_type": "markdown",
   "metadata": {},
   "source": [
    "# Deploy Web Page with Elastic Beanstalk\n",
    "\n",
    "Tutorial Client: https://docs.aws.amazon.com/elasticbeanstalk/latest/dg/eb-cli3.html\n",
    "\n",
    "Titorial Bundle: https://docs.aws.amazon.com/elasticbeanstalk/latest/dg/applications-sourcebundle.html"
   ]
  },
  {
   "cell_type": "code",
   "execution_count": null,
   "metadata": {},
   "outputs": [],
   "source": []
  },
  {
   "cell_type": "code",
   "execution_count": null,
   "metadata": {},
   "outputs": [],
   "source": []
  },
  {
   "cell_type": "code",
   "execution_count": null,
   "metadata": {},
   "outputs": [],
   "source": []
  },
  {
   "cell_type": "markdown",
   "metadata": {
    "ExecuteTime": {
     "end_time": "2019-09-29T14:22:46.719526Z",
     "start_time": "2019-09-29T14:22:46.708815Z"
    }
   },
   "source": [
    "# References\n",
    "\n",
    "* [Fastai multi label](https://gilberttanner.com/blog/fastai-multi-label-image-classification)\n",
    "* [Google images scrapping](https://medium.com/@intprogrammer/how-to-scrape-google-for-images-to-train-your-machine-learning-classifiers-on-565076972ce)\n",
    "* [Basic mushroom info](https://bolets.info/)\n",
    "* [Mushroom names in Latin and additional info](https://ca.wikipedia.org/)\n",
    "* [Instagram @natros56](https://www.instagram.com/explore/tags/indexboletsnatros56_cat/)\n",
    "\n",
    "\n"
   ]
  },
  {
   "cell_type": "markdown",
   "metadata": {},
   "source": [
    "# Not Used"
   ]
  },
  {
   "cell_type": "raw",
   "metadata": {},
   "source": [
    "img_data = ImageDataBunch.from_df(\n",
    "    path:PathOrStr,\n",
    "    df:DataFrame,\n",
    "    folder:PathOrStr=None,\n",
    "    label_delim:str=None,\n",
    "    valid_pct:float=0.2,\n",
    "    seed:int=None,\n",
    "    fn_col:IntsOrStrs=0,\n",
    "    label_col:IntsOrStrs=1,\n",
    "    suffix:str='',\n",
    ")\n",
    "    \n",
    "    data_path,\n",
    "    folder=None,\n",
    "    label_delim=None,\n",
    "    valid_pct=0.2,\n",
    "    seed=np.random.seed(42),\n",
    "    fn_col=0,\n",
    "    label_col=1,\n",
    "    #suffix:str='',\n",
    "    #delimiter:str=None,\n",
    "    header='infer',\n",
    "    ds_tfms=tfms,\n",
    "    size=224,\n",
    "    bs=bs)"
   ]
  },
  {
   "cell_type": "raw",
   "metadata": {
    "ExecuteTime": {
     "end_time": "2019-09-29T17:16:39.569598Z",
     "start_time": "2019-09-29T17:16:39.263665Z"
    }
   },
   "source": [
    "img_data = ImageDataBunch.from_csv(\n",
    "    data_path,\n",
    "    folder='train',\n",
    "    label_delim=None,\n",
    "    valid_pct=0.2,\n",
    "    seed=np.random.seed(42),\n",
    "    fn_col=0,\n",
    "    label_col=1,\n",
    "    #suffix:str='',\n",
    "    #delimiter:str=None,\n",
    "    header='infer',\n",
    "    ds_tfms=tfms,\n",
    "    size=224,\n",
    "    bs=bs)"
   ]
  },
  {
   "cell_type": "raw",
   "metadata": {},
   "source": [
    "PATH_IMG = Path('PlantVillage/')"
   ]
  },
  {
   "cell_type": "raw",
   "metadata": {},
   "source": [
    "bs = 64 # batch_size"
   ]
  },
  {
   "cell_type": "raw",
   "metadata": {},
   "source": [
    "img_data = ImageDataBunch.from_folder(path=PATH_IMG, train='train', valid='val', ds_tfms=get_transforms(), size=224, bs=bs)"
   ]
  }
 ],
 "metadata": {
  "kernelspec": {
   "display_name": "Python [conda env:fastai]",
   "language": "python",
   "name": "conda-env-fastai-py"
  },
  "language_info": {
   "codemirror_mode": {
    "name": "ipython",
    "version": 3
   },
   "file_extension": ".py",
   "mimetype": "text/x-python",
   "name": "python",
   "nbconvert_exporter": "python",
   "pygments_lexer": "ipython3",
   "version": "3.7.4"
  },
  "toc": {
   "base_numbering": 1,
   "nav_menu": {},
   "number_sections": true,
   "sideBar": true,
   "skip_h1_title": false,
   "title_cell": "Table of Contents",
   "title_sidebar": "Contents",
   "toc_cell": false,
   "toc_position": {},
   "toc_section_display": true,
   "toc_window_display": true
  }
 },
 "nbformat": 4,
 "nbformat_minor": 2
}
