{
 "cells": [
  {
   "cell_type": "markdown",
   "metadata": {},
   "source": [
    "# Imports"
   ]
  },
  {
   "cell_type": "code",
   "execution_count": 24,
   "metadata": {
    "ExecuteTime": {
     "end_time": "2019-11-09T15:31:06.030618Z",
     "start_time": "2019-11-09T15:31:05.878676Z"
    }
   },
   "outputs": [],
   "source": [
    "%reload_ext autoreload\n",
    "%autoreload 2\n",
    "%matplotlib inline"
   ]
  },
  {
   "cell_type": "code",
   "execution_count": 25,
   "metadata": {
    "ExecuteTime": {
     "end_time": "2019-11-09T15:31:06.274460Z",
     "start_time": "2019-11-09T15:31:06.155969Z"
    }
   },
   "outputs": [],
   "source": [
    "import json\n",
    "from glob import glob\n",
    "from pathlib import Path\n",
    "from PIL import Image as Image_PIL\n",
    "import imghdr # built in module\n",
    "import numpy as np\n",
    "from fastai import *\n",
    "import fastai\n",
    "from fastai.vision import *\n",
    "from fastai.metrics import error_rate, accuracy\n",
    "import pandas as pd"
   ]
  },
  {
   "cell_type": "code",
   "execution_count": 26,
   "metadata": {
    "ExecuteTime": {
     "end_time": "2019-11-09T15:31:06.702415Z",
     "start_time": "2019-11-09T15:31:06.396919Z"
    }
   },
   "outputs": [
    {
     "name": "stdout",
     "output_type": "stream",
     "text": [
      "/Users/maurice/anaconda3/envs/fastai/bin/python\r\n"
     ]
    }
   ],
   "source": [
    "!which python"
   ]
  },
  {
   "cell_type": "code",
   "execution_count": 27,
   "metadata": {
    "ExecuteTime": {
     "end_time": "2019-11-09T15:31:06.842641Z",
     "start_time": "2019-11-09T15:31:06.706863Z"
    }
   },
   "outputs": [
    {
     "name": "stdout",
     "output_type": "stream",
     "text": [
      "1.0.59\n"
     ]
    }
   ],
   "source": [
    "print(fastai.__version__)"
   ]
  },
  {
   "cell_type": "markdown",
   "metadata": {},
   "source": [
    "# Paths"
   ]
  },
  {
   "cell_type": "code",
   "execution_count": 28,
   "metadata": {
    "ExecuteTime": {
     "end_time": "2019-11-09T15:31:07.435662Z",
     "start_time": "2019-11-09T15:31:07.330573Z"
    }
   },
   "outputs": [],
   "source": [
    "# Data\n",
    "path_gdrive = Path.home() / 'Google Drive/mushrooms'\n",
    "data_folder = path_gdrive / 'data'\n",
    "\n",
    "\n",
    "# Project\n",
    "project_path = Path.home() / 'repos_github/mushroom-identifier/'\n",
    "app_path = project_path / 'app'\n",
    "model_path = app_path / 'models'"
   ]
  },
  {
   "cell_type": "markdown",
   "metadata": {},
   "source": [
    "## Load Mushroom Info"
   ]
  },
  {
   "cell_type": "code",
   "execution_count": 43,
   "metadata": {
    "ExecuteTime": {
     "end_time": "2019-11-09T22:51:05.991312Z",
     "start_time": "2019-11-09T22:51:04.913886Z"
    },
    "scrolled": true
   },
   "outputs": [
    {
     "data": {
      "text/html": [
       "<div>\n",
       "<style scoped>\n",
       "    .dataframe tbody tr th:only-of-type {\n",
       "        vertical-align: middle;\n",
       "    }\n",
       "\n",
       "    .dataframe tbody tr th {\n",
       "        vertical-align: top;\n",
       "    }\n",
       "\n",
       "    .dataframe thead th {\n",
       "        text-align: right;\n",
       "    }\n",
       "</style>\n",
       "<table border=\"1\" class=\"dataframe\">\n",
       "  <thead>\n",
       "    <tr style=\"text-align: right;\">\n",
       "      <th></th>\n",
       "      <th>description</th>\n",
       "      <th>edibility</th>\n",
       "      <th>insta_tag</th>\n",
       "      <th>latin</th>\n",
       "      <th>name</th>\n",
       "      <th>other_names</th>\n",
       "      <th>poisonous</th>\n",
       "      <th>wikipedia</th>\n",
       "    </tr>\n",
       "    <tr>\n",
       "      <th>Index</th>\n",
       "      <th></th>\n",
       "      <th></th>\n",
       "      <th></th>\n",
       "      <th></th>\n",
       "      <th></th>\n",
       "      <th></th>\n",
       "      <th></th>\n",
       "      <th></th>\n",
       "    </tr>\n",
       "  </thead>\n",
       "  <tbody>\n",
       "    <tr>\n",
       "      <td>Amanita_Caesarea</td>\n",
       "      <td>NaN</td>\n",
       "      <td>Edible</td>\n",
       "      <td>ntsamc_cat</td>\n",
       "      <td>Amanita Caesarea</td>\n",
       "      <td>Ou de reig</td>\n",
       "      <td>NaN</td>\n",
       "      <td>No. Edible.</td>\n",
       "      <td>http://www.fichasmicologicas.com/index.php?id=...</td>\n",
       "    </tr>\n",
       "    <tr>\n",
       "      <td>Amanita_Citrina</td>\n",
       "      <td>-</td>\n",
       "      <td>Edible</td>\n",
       "      <td>ntsaci_cat</td>\n",
       "      <td>Amanita Citrina</td>\n",
       "      <td>Reig bord groc</td>\n",
       "      <td>NaN</td>\n",
       "      <td>No. Edible.</td>\n",
       "      <td>http://www.fichasmicologicas.com/?micos=1&amp;s=ci...</td>\n",
       "    </tr>\n",
       "    <tr>\n",
       "      <td>Amanita_Muscaria</td>\n",
       "      <td>NaN</td>\n",
       "      <td>Not edible</td>\n",
       "      <td>ntsam_cat</td>\n",
       "      <td>Amanita Muscaria</td>\n",
       "      <td>Reig de Fageda, Reig Bord</td>\n",
       "      <td>NaN</td>\n",
       "      <td>No. Not Edible.</td>\n",
       "      <td>http://www.fichasmicologicas.com/?micos=1&amp;s=mu...</td>\n",
       "    </tr>\n",
       "    <tr>\n",
       "      <td>Amanita_Pahlloides</td>\n",
       "      <td>NaN</td>\n",
       "      <td>Not edible</td>\n",
       "      <td>ntsap_cat</td>\n",
       "      <td>Amanita Pahlloides</td>\n",
       "      <td>Farinera borda</td>\n",
       "      <td>NaN</td>\n",
       "      <td>Yes.</td>\n",
       "      <td>http://www.fichasmicologicas.com/index.php?id=...</td>\n",
       "    </tr>\n",
       "    <tr>\n",
       "      <td>Amanita_Pantherina</td>\n",
       "      <td>-</td>\n",
       "      <td>Not edible</td>\n",
       "      <td>NaN</td>\n",
       "      <td>Amanita Pantherina</td>\n",
       "      <td>----</td>\n",
       "      <td>NaN</td>\n",
       "      <td>Yes.</td>\n",
       "      <td>http://www.fichasmicologicas.com/?micos=1&amp;s=pa...</td>\n",
       "    </tr>\n",
       "  </tbody>\n",
       "</table>\n",
       "</div>"
      ],
      "text/plain": [
       "                   description   edibility   insta_tag               latin  \\\n",
       "Index                                                                        \n",
       "Amanita_Caesarea           NaN      Edible  ntsamc_cat    Amanita Caesarea   \n",
       "Amanita_Citrina              -      Edible  ntsaci_cat     Amanita Citrina   \n",
       "Amanita_Muscaria           NaN  Not edible   ntsam_cat    Amanita Muscaria   \n",
       "Amanita_Pahlloides         NaN  Not edible   ntsap_cat  Amanita Pahlloides   \n",
       "Amanita_Pantherina           -  Not edible         NaN  Amanita Pantherina   \n",
       "\n",
       "                                         name other_names        poisonous  \\\n",
       "Index                                                                        \n",
       "Amanita_Caesarea                   Ou de reig         NaN      No. Edible.   \n",
       "Amanita_Citrina                Reig bord groc         NaN      No. Edible.   \n",
       "Amanita_Muscaria    Reig de Fageda, Reig Bord         NaN  No. Not Edible.   \n",
       "Amanita_Pahlloides             Farinera borda         NaN             Yes.   \n",
       "Amanita_Pantherina                       ----         NaN             Yes.   \n",
       "\n",
       "                                                            wikipedia  \n",
       "Index                                                                  \n",
       "Amanita_Caesarea    http://www.fichasmicologicas.com/index.php?id=...  \n",
       "Amanita_Citrina     http://www.fichasmicologicas.com/?micos=1&s=ci...  \n",
       "Amanita_Muscaria    http://www.fichasmicologicas.com/?micos=1&s=mu...  \n",
       "Amanita_Pahlloides  http://www.fichasmicologicas.com/index.php?id=...  \n",
       "Amanita_Pantherina  http://www.fichasmicologicas.com/?micos=1&s=pa...  "
      ]
     },
     "execution_count": 43,
     "metadata": {},
     "output_type": "execute_result"
    }
   ],
   "source": [
    "df_mushrooms = pd.read_excel(project_path / 'data/mushrooms.xlsx', index_col=0)\n",
    "df_mushrooms.set_index('Index', inplace=True, drop=True)\n",
    "df_mushrooms.head()"
   ]
  },
  {
   "cell_type": "code",
   "execution_count": 44,
   "metadata": {
    "ExecuteTime": {
     "end_time": "2019-11-09T22:51:06.177703Z",
     "start_time": "2019-11-09T22:51:05.993692Z"
    }
   },
   "outputs": [
    {
     "data": {
      "text/plain": [
       "Index(['description', 'edibility', 'insta_tag', 'latin', 'name', 'other_names',\n",
       "       'poisonous', 'wikipedia'],\n",
       "      dtype='object')"
      ]
     },
     "execution_count": 44,
     "metadata": {},
     "output_type": "execute_result"
    }
   ],
   "source": [
    "df_mushrooms.columns"
   ]
  },
  {
   "cell_type": "code",
   "execution_count": 45,
   "metadata": {
    "ExecuteTime": {
     "end_time": "2019-11-09T22:51:06.340621Z",
     "start_time": "2019-11-09T22:51:06.184094Z"
    }
   },
   "outputs": [],
   "source": [
    "df_mushrooms[['poisonous','latin','name']].to_json(app_path/'static/mushroom_info.json', orient='index')"
   ]
  },
  {
   "cell_type": "markdown",
   "metadata": {},
   "source": [
    "# Train the model"
   ]
  },
  {
   "cell_type": "markdown",
   "metadata": {},
   "source": [
    "## generate databunch"
   ]
  },
  {
   "cell_type": "markdown",
   "metadata": {},
   "source": [
    "Add some data augmentation with `get_transforms`:"
   ]
  },
  {
   "cell_type": "code",
   "execution_count": 32,
   "metadata": {
    "ExecuteTime": {
     "end_time": "2019-11-09T15:31:18.629184Z",
     "start_time": "2019-11-09T15:31:18.503829Z"
    }
   },
   "outputs": [],
   "source": [
    "tfms = get_transforms(\n",
    "    flip_vert=True,\n",
    "    max_lighting=0.1,\n",
    "    max_zoom=1.05,\n",
    "    max_warp=0.5,\n",
    ")"
   ]
  },
  {
   "cell_type": "markdown",
   "metadata": {},
   "source": [
    "Define batch size, image size:"
   ]
  },
  {
   "cell_type": "code",
   "execution_count": 33,
   "metadata": {
    "ExecuteTime": {
     "end_time": "2019-11-09T15:31:19.565504Z",
     "start_time": "2019-11-09T15:31:19.449867Z"
    }
   },
   "outputs": [],
   "source": [
    "bs = 32 # 64       # batch_size\n",
    "size = 128\n",
    "np.random.seed(42) # set random seed so we always get the same validation set"
   ]
  },
  {
   "cell_type": "markdown",
   "metadata": {},
   "source": [
    "Create an `ImageDataBunch` from `path` by splitting the data in folder and labelled in a file `csv_labels` between a training and validation set.\n",
    "\n",
    "Use `valid_pct` to indicate the percentage of the total images to use as the validation set. An optional test folder contains unlabelled data and suffix contains an optional suffix to add to the filenames in `csv_labels` (such as '.jpg').\n",
    "* `fn_col` is the index (or the name) of the the column containing the filenames and \n",
    "* `label_col` is the index (indices) (or the name(s)) of the column(s) containing the labels.\n",
    "* Use `header` to specify the format of the csv header, and\n",
    "* `delimiter` to specify a non-standard csv-field separator.\n",
    "\n",
    "In case your csv has no header, column parameters can only be specified as indices. If `label_delim` is passed, split what's in the label column according to that separator."
   ]
  },
  {
   "cell_type": "code",
   "execution_count": null,
   "metadata": {
    "ExecuteTime": {
     "end_time": "2019-10-06T14:06:49.390394Z",
     "start_time": "2019-10-06T14:06:49.277461Z"
    }
   },
   "outputs": [],
   "source": [
    "# doc(ImageDataBunch)"
   ]
  },
  {
   "cell_type": "code",
   "execution_count": 34,
   "metadata": {
    "ExecuteTime": {
     "end_time": "2019-11-09T15:31:23.967716Z",
     "start_time": "2019-11-09T15:31:23.775214Z"
    }
   },
   "outputs": [],
   "source": [
    "src = (ImageList.from_folder(path=data_folder)\n",
    "       .split_by_rand_pct(0.2)\n",
    "       .label_from_folder())"
   ]
  },
  {
   "cell_type": "markdown",
   "metadata": {
    "ExecuteTime": {
     "end_time": "2019-10-07T16:37:51.952349Z",
     "start_time": "2019-10-07T16:37:51.896387Z"
    }
   },
   "source": [
    "## Train resnet34; image size=128 "
   ]
  },
  {
   "cell_type": "code",
   "execution_count": 35,
   "metadata": {
    "ExecuteTime": {
     "end_time": "2019-11-09T15:31:29.650372Z",
     "start_time": "2019-11-09T15:31:25.465087Z"
    }
   },
   "outputs": [],
   "source": [
    "img_data = (src.transform(tfms, size=128)\n",
    "            .databunch()\n",
    "            .normalize(imagenet_stats))"
   ]
  },
  {
   "cell_type": "markdown",
   "metadata": {},
   "source": [
    "First image of the training dataset:"
   ]
  },
  {
   "cell_type": "code",
   "execution_count": null,
   "metadata": {
    "ExecuteTime": {
     "end_time": "2019-11-04T17:41:19.317832Z",
     "start_time": "2019-11-04T17:41:19.220574Z"
    }
   },
   "outputs": [],
   "source": [
    "img_data.train_ds[0]"
   ]
  },
  {
   "cell_type": "markdown",
   "metadata": {},
   "source": [
    "First image of the validation dataset:"
   ]
  },
  {
   "cell_type": "code",
   "execution_count": null,
   "metadata": {
    "ExecuteTime": {
     "end_time": "2019-11-04T17:41:21.190172Z",
     "start_time": "2019-11-04T17:41:21.056425Z"
    }
   },
   "outputs": [],
   "source": [
    "img_data.valid_ds[0]"
   ]
  },
  {
   "cell_type": "markdown",
   "metadata": {},
   "source": [
    "Show some images from the dataset:"
   ]
  },
  {
   "cell_type": "code",
   "execution_count": null,
   "metadata": {
    "ExecuteTime": {
     "end_time": "2019-11-04T17:41:30.619564Z",
     "start_time": "2019-11-04T17:41:24.160739Z"
    },
    "scrolled": true
   },
   "outputs": [],
   "source": [
    "img_data.show_batch(rows=3, figsize=(10,8))"
   ]
  },
  {
   "cell_type": "markdown",
   "metadata": {},
   "source": [
    "Number of classes in the dataset"
   ]
  },
  {
   "cell_type": "code",
   "execution_count": 36,
   "metadata": {
    "ExecuteTime": {
     "end_time": "2019-11-09T15:31:34.997320Z",
     "start_time": "2019-11-09T15:31:34.882296Z"
    }
   },
   "outputs": [
    {
     "data": {
      "text/plain": [
       "43"
      ]
     },
     "execution_count": 36,
     "metadata": {},
     "output_type": "execute_result"
    }
   ],
   "source": [
    "# Number of categories\n",
    "img_data.c"
   ]
  },
  {
   "cell_type": "code",
   "execution_count": 37,
   "metadata": {
    "ExecuteTime": {
     "end_time": "2019-11-09T15:31:41.108818Z",
     "start_time": "2019-11-09T15:31:40.994703Z"
    }
   },
   "outputs": [
    {
     "data": {
      "text/plain": [
       "['Amanita_Caesarea',\n",
       " 'Amanita_Citrina',\n",
       " 'Amanita_Muscaria',\n",
       " 'Amanita_Pahlloides',\n",
       " 'Amanita_Pantherina',\n",
       " 'Amanita_Vaginata',\n",
       " 'Boletus_Aereus',\n",
       " 'Boletus_Calopus',\n",
       " 'Boletus_Edulis',\n",
       " 'Boletus_Lupinus',\n",
       " 'Boletus_Regius',\n",
       " 'Calocybe_Gambosa',\n",
       " 'Cantharellus_Cibarius',\n",
       " 'Cantharellus_Lutescens',\n",
       " 'Chroogomphus_Rutilus',\n",
       " 'Clathus_Ruber',\n",
       " 'Clavulina_Cinerea',\n",
       " 'Clitocybe_Costata',\n",
       " 'Craterellus_Cinereus',\n",
       " 'Craterellus_Cornucopioides',\n",
       " 'Entoloma_Lividum',\n",
       " 'Gyromitra_Esculenta',\n",
       " 'Helvella_Crispa',\n",
       " 'Helvella_Lacunosa',\n",
       " 'Hydnum_Albidum',\n",
       " 'Hydnum_Rufescens',\n",
       " 'Hygrophorus_Eburneus',\n",
       " 'Hygrophorus_Latitabundus',\n",
       " 'Hygrophorus_Marzuolus',\n",
       " 'Hygrophorus_Personii',\n",
       " 'Hygrophorus_Russula',\n",
       " 'Lactarius_Deliciosus',\n",
       " 'Lactarius_Sanguifluus',\n",
       " 'Lactarius_Vinosus',\n",
       " 'Macrolepiota_Procera',\n",
       " 'Marasmius_Oreades',\n",
       " 'Morchella_Deliciosa',\n",
       " 'Omphalotus_Olearius',\n",
       " 'Phallus_Impudicus',\n",
       " 'Rubroboletus_Satanas',\n",
       " 'Russula_Aurea',\n",
       " 'Russula_Cyanoxantha',\n",
       " 'Russula_Delica']"
      ]
     },
     "execution_count": 37,
     "metadata": {},
     "output_type": "execute_result"
    }
   ],
   "source": [
    "# Names of the categories\n",
    "img_data.classes"
   ]
  },
  {
   "cell_type": "markdown",
   "metadata": {},
   "source": [
    "Set a learner with resnet34 architecture"
   ]
  },
  {
   "cell_type": "code",
   "execution_count": null,
   "metadata": {
    "ExecuteTime": {
     "end_time": "2019-11-04T17:43:33.874004Z",
     "start_time": "2019-11-04T17:43:32.774189Z"
    }
   },
   "outputs": [],
   "source": [
    "# model = cnn_learner(img_data, models.resnet34, metrics=[accuracy, error_rate])\n",
    "# model = cnn_learner(img_data, models.resnet34, metrics=[error_rate])\n",
    "\n",
    "# Used in multi label classifier:\n",
    "# acc_02 = partial(accuracy_thresh, thresh=0.2)\n",
    "# f_score = partial(fbeta, thresh=0.2)\n",
    "# model = cnn_learner(img_data, models.resnet34, metrics=[acc_02, f_score])\n",
    "\n",
    "model = cnn_learner(img_data, models.resnet34, metrics=[accuracy, error_rate])"
   ]
  },
  {
   "cell_type": "code",
   "execution_count": null,
   "metadata": {
    "ExecuteTime": {
     "end_time": "2019-11-04T17:56:09.095087Z",
     "start_time": "2019-11-04T17:43:36.954478Z"
    }
   },
   "outputs": [],
   "source": [
    "model.fit_one_cycle(1)"
   ]
  },
  {
   "cell_type": "code",
   "execution_count": null,
   "metadata": {
    "ExecuteTime": {
     "end_time": "2019-11-04T17:56:09.448555Z",
     "start_time": "2019-11-04T17:56:09.101718Z"
    }
   },
   "outputs": [],
   "source": [
    "model.save(path_gdrive / 'mushrooms_1_cycle')"
   ]
  },
  {
   "cell_type": "code",
   "execution_count": null,
   "metadata": {
    "ExecuteTime": {
     "end_time": "2019-11-03T21:09:56.869138Z",
     "start_time": "2019-11-03T20:47:30.514132Z"
    }
   },
   "outputs": [],
   "source": [
    "model.fit_one_cycle(2)"
   ]
  },
  {
   "cell_type": "code",
   "execution_count": null,
   "metadata": {
    "ExecuteTime": {
     "end_time": "2019-11-03T21:09:57.235403Z",
     "start_time": "2019-11-03T21:09:56.875345Z"
    }
   },
   "outputs": [],
   "source": [
    "model.save('mushrooms_3_cycles')"
   ]
  },
  {
   "cell_type": "code",
   "execution_count": null,
   "metadata": {
    "ExecuteTime": {
     "end_time": "2019-11-04T17:57:28.878966Z",
     "start_time": "2019-11-04T17:56:09.459322Z"
    }
   },
   "outputs": [],
   "source": [
    "interpret = ClassificationInterpretation.from_learner(model)"
   ]
  },
  {
   "cell_type": "code",
   "execution_count": null,
   "metadata": {
    "ExecuteTime": {
     "end_time": "2019-11-04T17:57:29.778344Z",
     "start_time": "2019-11-04T17:57:28.882002Z"
    },
    "scrolled": true
   },
   "outputs": [],
   "source": [
    "interpret.plot_top_losses(4, figsize=(20, 25))"
   ]
  },
  {
   "cell_type": "code",
   "execution_count": null,
   "metadata": {
    "ExecuteTime": {
     "end_time": "2019-11-05T06:06:38.965427Z",
     "start_time": "2019-11-05T06:06:29.100999Z"
    }
   },
   "outputs": [],
   "source": [
    "interpret.plot_confusion_matrix(figsize=(20,20), dpi=60)"
   ]
  },
  {
   "cell_type": "code",
   "execution_count": null,
   "metadata": {
    "ExecuteTime": {
     "end_time": "2019-11-05T06:22:03.202657Z",
     "start_time": "2019-11-05T06:10:58.414281Z"
    }
   },
   "outputs": [],
   "source": [
    "model.lr_find()"
   ]
  },
  {
   "cell_type": "code",
   "execution_count": null,
   "metadata": {
    "ExecuteTime": {
     "end_time": "2019-11-05T06:22:03.828738Z",
     "start_time": "2019-11-05T06:22:03.207529Z"
    }
   },
   "outputs": [],
   "source": [
    "model.recorder.plot()"
   ]
  },
  {
   "cell_type": "code",
   "execution_count": null,
   "metadata": {
    "ExecuteTime": {
     "end_time": "2019-11-05T06:55:21.174080Z",
     "start_time": "2019-11-05T06:22:03.831080Z"
    }
   },
   "outputs": [],
   "source": [
    "model.unfreeze()\n",
    "model.fit_one_cycle(3, max_lr=slice(1e-03, 5e-02))"
   ]
  },
  {
   "cell_type": "code",
   "execution_count": null,
   "metadata": {
    "ExecuteTime": {
     "end_time": "2019-11-03T21:11:11.591125Z",
     "start_time": "2019-11-03T20:36:22.340Z"
    }
   },
   "outputs": [],
   "source": [
    "model.save('stage-1-128-rn34_lr_6_cycles')"
   ]
  },
  {
   "cell_type": "code",
   "execution_count": null,
   "metadata": {
    "ExecuteTime": {
     "end_time": "2019-11-03T21:11:11.601439Z",
     "start_time": "2019-11-03T20:36:58.863Z"
    }
   },
   "outputs": [],
   "source": [
    "model.export('export_stage-1-128-rn34_lr_6_cycles.pkl')"
   ]
  },
  {
   "cell_type": "code",
   "execution_count": null,
   "metadata": {},
   "outputs": [],
   "source": [
    "model.fit_one_cycle(5, max_lr=slice(1e-03, 1e-02))"
   ]
  },
  {
   "cell_type": "markdown",
   "metadata": {},
   "source": [
    "## Train resnet34; image size=256"
   ]
  },
  {
   "cell_type": "markdown",
   "metadata": {},
   "source": [
    "Do some data augmentation by creating new databunch with images of size=256"
   ]
  },
  {
   "cell_type": "code",
   "execution_count": null,
   "metadata": {
    "ExecuteTime": {
     "end_time": "2019-10-07T17:04:59.030205Z",
     "start_time": "2019-10-07T17:04:58.953815Z"
    }
   },
   "outputs": [],
   "source": [
    "img_data = (src.transform(tfms, size=256)\n",
    "            .databunch()\n",
    "            .normalize(imagenet_stats))"
   ]
  },
  {
   "cell_type": "code",
   "execution_count": null,
   "metadata": {},
   "outputs": [],
   "source": [
    "model.data = img_data"
   ]
  },
  {
   "cell_type": "code",
   "execution_count": null,
   "metadata": {},
   "outputs": [],
   "source": [
    "model.freeze()\n",
    "model.lr_find()\n",
    "model.recorder.plot()"
   ]
  },
  {
   "cell_type": "code",
   "execution_count": null,
   "metadata": {},
   "outputs": [],
   "source": [
    "lr = 1e-3/2\n",
    "model.fit_one_cycle(2, slice(lr))"
   ]
  },
  {
   "cell_type": "code",
   "execution_count": null,
   "metadata": {},
   "outputs": [],
   "source": [
    "model.fit_one_cycle(3, slice(lr))"
   ]
  },
  {
   "cell_type": "code",
   "execution_count": null,
   "metadata": {},
   "outputs": [],
   "source": [
    "model.save('stage-2-128-rn34_lr_5_cycles')"
   ]
  },
  {
   "cell_type": "code",
   "execution_count": null,
   "metadata": {},
   "outputs": [],
   "source": [
    "model.load('stage-2-128-rn34_lr_5_cycles')"
   ]
  },
  {
   "cell_type": "code",
   "execution_count": null,
   "metadata": {},
   "outputs": [],
   "source": [
    "model.export('export_stage-2-128-rn34_lr_5_cycles.pkl')"
   ]
  },
  {
   "cell_type": "markdown",
   "metadata": {},
   "source": [
    "# Test model with other images:"
   ]
  },
  {
   "cell_type": "code",
   "execution_count": 6,
   "metadata": {
    "ExecuteTime": {
     "end_time": "2019-11-09T15:07:53.167857Z",
     "start_time": "2019-11-09T15:07:52.919212Z"
    }
   },
   "outputs": [],
   "source": [
    "# image = 'rovello.jpg'\n",
    "#image = 'phallus.jpg'\n",
    "image = 'fredolic.jpg'\n",
    "image = 'aguacate.jpg'"
   ]
  },
  {
   "cell_type": "code",
   "execution_count": 7,
   "metadata": {
    "ExecuteTime": {
     "end_time": "2019-11-09T15:07:53.843201Z",
     "start_time": "2019-11-09T15:07:53.427789Z"
    }
   },
   "outputs": [],
   "source": [
    "predictor = load_learner(model_path)"
   ]
  },
  {
   "cell_type": "code",
   "execution_count": 8,
   "metadata": {
    "ExecuteTime": {
     "end_time": "2019-11-09T15:07:54.152400Z",
     "start_time": "2019-11-09T15:07:54.040730Z"
    }
   },
   "outputs": [],
   "source": [
    "image_path = Path.home() / image"
   ]
  },
  {
   "cell_type": "code",
   "execution_count": 9,
   "metadata": {
    "ExecuteTime": {
     "end_time": "2019-11-09T15:07:54.713206Z",
     "start_time": "2019-11-09T15:07:54.503203Z"
    }
   },
   "outputs": [],
   "source": [
    "img = open_image(image_path)"
   ]
  },
  {
   "cell_type": "code",
   "execution_count": 10,
   "metadata": {
    "ExecuteTime": {
     "end_time": "2019-11-09T15:07:55.549321Z",
     "start_time": "2019-11-09T15:07:54.988014Z"
    }
   },
   "outputs": [],
   "source": [
    "result = predictor.predict(img)"
   ]
  },
  {
   "cell_type": "code",
   "execution_count": 19,
   "metadata": {
    "ExecuteTime": {
     "end_time": "2019-11-09T15:15:39.542631Z",
     "start_time": "2019-11-09T15:15:39.236042Z"
    }
   },
   "outputs": [
    {
     "data": {
      "text/plain": [
       "tuple"
      ]
     },
     "execution_count": 19,
     "metadata": {},
     "output_type": "execute_result"
    }
   ],
   "source": [
    "type(result)"
   ]
  },
  {
   "cell_type": "code",
   "execution_count": 11,
   "metadata": {
    "ExecuteTime": {
     "end_time": "2019-11-09T15:07:55.715270Z",
     "start_time": "2019-11-09T15:07:55.615715Z"
    }
   },
   "outputs": [
    {
     "data": {
      "text/plain": [
       "'Boletus_Regius'"
      ]
     },
     "execution_count": 11,
     "metadata": {},
     "output_type": "execute_result"
    }
   ],
   "source": [
    "mushroom_predicted = str(result[0]).replace('Category ', '')\n",
    "mushroom_predicted"
   ]
  },
  {
   "cell_type": "code",
   "execution_count": 12,
   "metadata": {
    "ExecuteTime": {
     "end_time": "2019-11-09T15:07:59.049544Z",
     "start_time": "2019-11-09T15:07:58.967995Z"
    }
   },
   "outputs": [
    {
     "data": {
      "text/plain": [
       "tensor(10)"
      ]
     },
     "execution_count": 12,
     "metadata": {},
     "output_type": "execute_result"
    }
   ],
   "source": [
    "result[1]"
   ]
  },
  {
   "cell_type": "code",
   "execution_count": 13,
   "metadata": {
    "ExecuteTime": {
     "end_time": "2019-11-09T15:08:00.165270Z",
     "start_time": "2019-11-09T15:08:00.057510Z"
    }
   },
   "outputs": [
    {
     "data": {
      "text/plain": [
       "0.3197043836116791"
      ]
     },
     "execution_count": 13,
     "metadata": {},
     "output_type": "execute_result"
    }
   ],
   "source": [
    "probability = max(result[2]).item()\n",
    "probability"
   ]
  },
  {
   "cell_type": "code",
   "execution_count": 14,
   "metadata": {
    "ExecuteTime": {
     "end_time": "2019-11-09T15:08:00.877936Z",
     "start_time": "2019-11-09T15:08:00.727690Z"
    }
   },
   "outputs": [
    {
     "data": {
      "text/plain": [
       "tensor([3.8417e-03, 8.5018e-05, 5.1163e-05, 2.7157e-01, 2.5229e-06, 3.6156e-05,\n",
       "        1.6173e-04, 2.1466e-01, 3.1631e-04, 1.3586e-04, 3.1970e-01, 8.1715e-05,\n",
       "        1.3885e-04, 1.6182e-03, 1.8477e-04, 3.6631e-05, 4.1688e-06, 9.7293e-06,\n",
       "        2.8626e-04, 3.0337e-04, 2.7231e-05, 2.1254e-04, 4.2989e-06, 1.8701e-04,\n",
       "        3.7796e-06, 9.6503e-07, 4.1749e-05, 5.5567e-05, 2.2808e-05, 1.6806e-04,\n",
       "        1.5257e-05, 4.3757e-07, 1.8432e-06, 8.5881e-06, 6.3273e-06, 3.4058e-05,\n",
       "        1.0502e-04, 1.1173e-04, 1.4493e-04, 5.7671e-04, 1.8461e-01, 4.1601e-04,\n",
       "        2.0296e-05])"
      ]
     },
     "execution_count": 14,
     "metadata": {},
     "output_type": "execute_result"
    }
   ],
   "source": [
    "result[2]"
   ]
  },
  {
   "cell_type": "code",
   "execution_count": 15,
   "metadata": {
    "ExecuteTime": {
     "end_time": "2019-11-09T15:08:01.480789Z",
     "start_time": "2019-11-09T15:08:01.341007Z"
    }
   },
   "outputs": [
    {
     "data": {
      "text/plain": [
       "tensor(0.3197)"
      ]
     },
     "execution_count": 15,
     "metadata": {},
     "output_type": "execute_result"
    }
   ],
   "source": [
    "max(result[2])"
   ]
  },
  {
   "cell_type": "markdown",
   "metadata": {},
   "source": [
    "Generate text to be shown in web app"
   ]
  },
  {
   "cell_type": "code",
   "execution_count": 16,
   "metadata": {
    "ExecuteTime": {
     "end_time": "2019-11-09T15:08:04.588014Z",
     "start_time": "2019-11-09T15:08:04.468343Z"
    }
   },
   "outputs": [
    {
     "data": {
      "text/plain": [
       "{'Amanita_Caesarea': {'poisonous': 'Not poisonous',\n",
       "  'latin': 'Amanita Caesarea',\n",
       "  'name': 'Ou de reig'},\n",
       " 'Amanita_Citrina': {'poisonous': 'Not poisonous',\n",
       "  'latin': 'Amanita Citrina',\n",
       "  'name': 'Reig bord groc'},\n",
       " 'Amanita_Muscaria': {'poisonous': 'Not Poisonous',\n",
       "  'latin': 'Amanita Muscaria',\n",
       "  'name': 'reig de fageda / reig bord'},\n",
       " 'Amanita_Pahlloides': {'poisonous': 'Poisonous',\n",
       "  'latin': 'Amanita Pahlloides',\n",
       "  'name': 'Farinera borda'},\n",
       " 'Amanita_Pantherina': {'poisonous': 'Poisonous',\n",
       "  'latin': 'Amanita Pantherina',\n",
       "  'name': '----'},\n",
       " 'Amanita_Vaginata': {'poisonous': 'Not poisonous',\n",
       "  'latin': 'Amanita Vaginata',\n",
       "  'name': '----'},\n",
       " 'Boletus_Aereus': {'poisonous': 'Not poisonous',\n",
       "  'latin': 'Boletus Aereus',\n",
       "  'name': '----'},\n",
       " 'Boletus_Calopus': {'poisonous': 'Not Poisonous',\n",
       "  'latin': 'Boletus Calopus',\n",
       "  'name': 'Mataparent amarg'},\n",
       " 'Boletus_Edulis': {'poisonous': 'Not poisonous',\n",
       "  'latin': 'Boletus Edulis',\n",
       "  'name': 'Cep'},\n",
       " 'Boletus_Lupinus': {'poisonous': 'Not poisonous',\n",
       "  'latin': 'Boletus Lupinus',\n",
       "  'name': '----'},\n",
       " 'Boletus_Regius': {'poisonous': 'Not poisonous',\n",
       "  'latin': 'Boletus Regius',\n",
       "  'name': '----'},\n",
       " 'Calocybe_Gambosa': {'poisonous': 'Not poisonous',\n",
       "  'latin': 'Calocybe Gambosa',\n",
       "  'name': 'Moixernó'},\n",
       " 'Cantharellus_Cibarius': {'poisonous': 'Not poisonous',\n",
       "  'latin': 'Cantharellus Cibarius',\n",
       "  'name': 'Rossinyol'},\n",
       " 'Cantharellus_Lutescens': {'poisonous': 'Not poisonous',\n",
       "  'latin': 'Cantharellus Lutescens',\n",
       "  'name': 'Camagroc'},\n",
       " 'Chroogomphus_Rutilus': {'poisonous': 'Not poisonous',\n",
       "  'latin': 'Chroogomphus Rutilus',\n",
       "  'name': '----'},\n",
       " 'Clathus_Ruber': {'poisonous': 'Not poisonous',\n",
       "  'latin': 'Clathus Ruber',\n",
       "  'name': '----'},\n",
       " 'Clavulina_Cinerea': {'poisonous': 'Not poisonous',\n",
       "  'latin': 'Clavulina Cinerea',\n",
       "  'name': 'Peu de rata gris'},\n",
       " 'Clitocybe_Costata': {'poisonous': 'Not poisonous',\n",
       "  'latin': 'Clitocybe Costata',\n",
       "  'name': 'Cama-sec de bosc'},\n",
       " 'Craterellus_Cinereus': {'poisonous': 'Not poisonous',\n",
       "  'latin': 'Craterellus Cinereus',\n",
       "  'name': '----'},\n",
       " 'Craterellus_Cornucopioides': {'poisonous': 'Not Poisonous',\n",
       "  'latin': 'Craterellus Cornucopioides',\n",
       "  'name': 'Trompeta de la mort'},\n",
       " 'Entoloma_Lividum': {'poisonous': 'Poisonous',\n",
       "  'latin': 'Entoloma Lividum',\n",
       "  'name': '----'},\n",
       " 'Gyromitra_Esculenta': {'poisonous': 'Poisonous',\n",
       "  'latin': 'Gyromitra Esculenta',\n",
       "  'name': '----'},\n",
       " 'Gyroporus_Cyanescens': {'poisonous': 'Not poisonous',\n",
       "  'latin': 'Gyroporus Cyanescens',\n",
       "  'name': 'Mataparent groc'},\n",
       " 'Hebeloma_Laterinum': {'poisonous': 'Not poisonous',\n",
       "  'latin': 'Hebeloma Laterinum',\n",
       "  'name': 'Carlí'},\n",
       " 'Helvella_Crispa': {'poisonous': 'Not poisonous',\n",
       "  'latin': 'Helvella Crispa',\n",
       "  'name': 'Barretet'},\n",
       " 'Helvella_Lacunosa': {'poisonous': 'Poisonous',\n",
       "  'latin': 'Helvella Lacunosa',\n",
       "  'name': '----'},\n",
       " 'Hydnum_Albidum': {'poisonous': 'Not poisonous',\n",
       "  'latin': 'Hydnum Albidum',\n",
       "  'name': '----'},\n",
       " 'Hydnum_Rufescens': {'poisonous': 'Not poisonous',\n",
       "  'latin': 'Hydnum Rufescens',\n",
       "  'name': '----'},\n",
       " 'Hygrophorus_Eburneus': {'poisonous': 'Not poisonous',\n",
       "  'latin': 'Hygrophorus Eburneus',\n",
       "  'name': 'Llenega blanca'},\n",
       " 'Hygrophorus_Gliocyclus': {'poisonous': 'Not poisonous',\n",
       "  'latin': 'Hygrophorus Gliocyclus',\n",
       "  'name': 'Llenega groga'},\n",
       " 'Hygrophorus_Latitabundus': {'poisonous': 'Not poisonous',\n",
       "  'latin': 'Hygrophorus Latitabundus',\n",
       "  'name': 'Llenega negra'},\n",
       " 'Hygrophorus_Marzuolus': {'poisonous': 'Not poisonous',\n",
       "  'latin': 'Hygrophorus Marzuolus',\n",
       "  'name': '----'},\n",
       " 'Hygrophorus_Personii': {'poisonous': 'Not poisonous',\n",
       "  'latin': 'Hygrophorus Personii',\n",
       "  'name': '----'},\n",
       " 'Hygrophorus_Russula': {'poisonous': 'Not Poisonous',\n",
       "  'latin': 'Hygrophorus Russula',\n",
       "  'name': 'Carlet'},\n",
       " 'Lactarius_Deliciosus': {'poisonous': 'Not Poisonous',\n",
       "  'latin': 'Lactarius Deliciosus',\n",
       "  'name': 'Pinetell'},\n",
       " 'Lactarius_Sanguifluus': {'poisonous': 'Not poisonous',\n",
       "  'latin': 'Lactarius Sanguifluus',\n",
       "  'name': 'Rovello'},\n",
       " 'Lactarius_Vinosus': {'poisonous': 'Not poisonous',\n",
       "  'latin': 'Lactarius Vinosus',\n",
       "  'name': None},\n",
       " 'Laetiporus_Sulphureus': {'poisonous': 'Not poisonous',\n",
       "  'latin': 'Laetiporus Sulphureus',\n",
       "  'name': 'Gírgola groga'},\n",
       " 'Lycoperdon_Perlatum': {'poisonous': 'Not poisonous',\n",
       "  'latin': 'Lycoperdon Perlatum',\n",
       "  'name': 'Pet de llop'},\n",
       " 'Macrolepiota_Procera': {'poisonous': 'Not Poisonous',\n",
       "  'latin': 'Macrolepiota Procera',\n",
       "  'name': 'Apagallums'},\n",
       " 'Marasmius_Oreades': {'poisonous': 'Not poisonous',\n",
       "  'latin': 'Marasmius Oreades',\n",
       "  'name': 'Cama-sec'},\n",
       " 'Melanoleuca_Excissa': {'poisonous': 'Not poisonous',\n",
       "  'latin': 'Melanoleuca Excissa',\n",
       "  'name': 'Moixernó negre'},\n",
       " 'Morchella_Deliciosa': {'poisonous': 'Not poisonous',\n",
       "  'latin': 'Morchella Deliciosa',\n",
       "  'name': 'Múrgola deliciosa'},\n",
       " 'Omphalotus_Olearius': {'poisonous': 'Poisonous',\n",
       "  'latin': 'Omphalotus Olearius',\n",
       "  'name': 'OU DEL DIABLE'},\n",
       " 'Phallus_Impudicus': {'poisonous': 'Poisonous',\n",
       "  'latin': 'Phallus Impudicus',\n",
       "  'name': '----'},\n",
       " 'Rubroboletus_Satanas': {'poisonous': 'Poisonous',\n",
       "  'latin': 'Rubroboletus Satanas',\n",
       "  'name': 'Mataparent, Matagent'},\n",
       " 'Russula_Aurea': {'poisonous': 'Not poisonous',\n",
       "  'latin': 'Russula Aurea',\n",
       "  'name': '----'},\n",
       " 'Russula_Cyanoxantha': {'poisonous': 'Not poisonous',\n",
       "  'latin': 'Russula Cyanoxantha',\n",
       "  'name': 'CARBONERA'},\n",
       " 'Russula_Delica': {'poisonous': None,\n",
       "  'latin': 'Russula Delica',\n",
       "  'name': 'PEBRASSA BLANCA'},\n",
       " 'Russula_Hemetica': {'poisonous': '---',\n",
       "  'latin': 'Russula Hemetica',\n",
       "  'name': '----'},\n",
       " 'Russula_Virescens': {'poisonous': 'Not poisonous',\n",
       "  'latin': 'Russula Virescens',\n",
       "  'name': 'LLORA VERDA'},\n",
       " 'Sparassis_Crispa': {'poisonous': 'Not poisonous',\n",
       "  'latin': 'Sparassis Crispa',\n",
       "  'name': 'PEU DE RATA REINA '},\n",
       " 'Suillus_Variegatus': {'poisonous': 'Not poisonous',\n",
       "  'latin': 'Suillus Variegatus',\n",
       "  'name': 'Molleric clapat'},\n",
       " 'Tricholoma_Equestre': {'poisonous': 'Not poisonous',\n",
       "  'latin': 'Tricholoma Equestre',\n",
       "  'name': '----'},\n",
       " 'Tricholoma_Sulphureum': {'poisonous': 'Toxic',\n",
       "  'latin': 'Tricholoma Sulphureum',\n",
       "  'name': 'BOLET DE SOFRE'},\n",
       " 'Tricholoma_Terreum': {'poisonous': 'Not poisonous',\n",
       "  'latin': 'Tricholoma Terreum',\n",
       "  'name': 'fredolic'}}"
      ]
     },
     "execution_count": 16,
     "metadata": {},
     "output_type": "execute_result"
    }
   ],
   "source": [
    "with open(app_path/'static/mushroom_info.json', 'r') as fp:\n",
    "    mushroom_info = json.load(fp)\n",
    "mushroom_info"
   ]
  },
  {
   "cell_type": "code",
   "execution_count": 17,
   "metadata": {
    "ExecuteTime": {
     "end_time": "2019-11-09T15:08:10.034969Z",
     "start_time": "2019-11-09T15:08:09.943882Z"
    }
   },
   "outputs": [
    {
     "name": "stdout",
     "output_type": "stream",
     "text": [
      "Mushroom: Boletus Regius (probability = 31.97%)\n",
      "Other names: ----\n",
      "Poisonous: Not poisonous\n"
     ]
    }
   ],
   "source": [
    "latin = mushroom_info[mushroom_predicted]['latin']\n",
    "poisonous = mushroom_info[mushroom_predicted]['poisonous']\n",
    "other_names = mushroom_info[mushroom_predicted]['name']\n",
    "text = (f'Mushroom: {latin} (probability = {100*probability:.2f}%)\\n'\n",
    "        f'Other names: {other_names}\\n'\n",
    "        f'Poisonous: {poisonous}')\n",
    "print(text)"
   ]
  },
  {
   "cell_type": "code",
   "execution_count": 39,
   "metadata": {
    "ExecuteTime": {
     "end_time": "2019-11-09T20:14:58.644452Z",
     "start_time": "2019-11-09T20:14:58.505782Z"
    }
   },
   "outputs": [
    {
     "data": {
      "text/plain": [
       "'Mushroom: Boletus Regius (probability = 31.97%)\\nOther names: ----\\nPoisonous: Not poisonous'"
      ]
     },
     "execution_count": 39,
     "metadata": {},
     "output_type": "execute_result"
    }
   ],
   "source": [
    "text = (f'Mushroom: {latin} (probability = {100*probability:.2f}%)\\n'\n",
    "            f'Other names: {other_names}\\n'\n",
    "            f'Poisonous: {poisonous}')\n",
    "text"
   ]
  },
  {
   "cell_type": "markdown",
   "metadata": {},
   "source": [
    "# Deploy Web Page with Elastic Beanstalk\n",
    "\n",
    "Tutorial Client: https://docs.aws.amazon.com/elasticbeanstalk/latest/dg/eb-cli3.html\n",
    "\n",
    "Titorial Bundle: https://docs.aws.amazon.com/elasticbeanstalk/latest/dg/applications-sourcebundle.html"
   ]
  },
  {
   "cell_type": "code",
   "execution_count": null,
   "metadata": {},
   "outputs": [],
   "source": []
  },
  {
   "cell_type": "code",
   "execution_count": null,
   "metadata": {},
   "outputs": [],
   "source": []
  },
  {
   "cell_type": "code",
   "execution_count": null,
   "metadata": {},
   "outputs": [],
   "source": []
  },
  {
   "cell_type": "markdown",
   "metadata": {
    "ExecuteTime": {
     "end_time": "2019-09-29T14:22:46.719526Z",
     "start_time": "2019-09-29T14:22:46.708815Z"
    }
   },
   "source": [
    "# References\n",
    "\n",
    "* [Fastai multi label](https://gilberttanner.com/blog/fastai-multi-label-image-classification)\n",
    "* [Google images scrapping](https://medium.com/@intprogrammer/how-to-scrape-google-for-images-to-train-your-machine-learning-classifiers-on-565076972ce)\n",
    "* [Basic mushroom info](https://bolets.info/)\n",
    "* [Mushroom names in Latin and additional info](https://ca.wikipedia.org/)\n",
    "* [Instagram @natros56](https://www.instagram.com/explore/tags/indexboletsnatros56_cat/)\n",
    "\n",
    "\n"
   ]
  },
  {
   "cell_type": "markdown",
   "metadata": {},
   "source": [
    "# Not Used"
   ]
  }
 ],
 "metadata": {
  "kernelspec": {
   "display_name": "Python [conda env:fastai]",
   "language": "python",
   "name": "conda-env-fastai-py"
  },
  "language_info": {
   "codemirror_mode": {
    "name": "ipython",
    "version": 3
   },
   "file_extension": ".py",
   "mimetype": "text/x-python",
   "name": "python",
   "nbconvert_exporter": "python",
   "pygments_lexer": "ipython3",
   "version": "3.7.4"
  },
  "toc": {
   "base_numbering": 1,
   "nav_menu": {},
   "number_sections": true,
   "sideBar": true,
   "skip_h1_title": false,
   "title_cell": "Table of Contents",
   "title_sidebar": "Contents",
   "toc_cell": false,
   "toc_position": {
    "height": "calc(100% - 180px)",
    "left": "10px",
    "top": "150px",
    "width": "165px"
   },
   "toc_section_display": true,
   "toc_window_display": true
  }
 },
 "nbformat": 4,
 "nbformat_minor": 2
}
