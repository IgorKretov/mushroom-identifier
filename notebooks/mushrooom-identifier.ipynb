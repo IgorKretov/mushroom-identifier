{
 "cells": [
  {
   "cell_type": "markdown",
   "metadata": {},
   "source": [
    "# Imports"
   ]
  },
  {
   "cell_type": "code",
   "execution_count": null,
   "metadata": {
    "ExecuteTime": {
     "end_time": "2019-11-03T07:39:50.377555Z",
     "start_time": "2019-11-03T07:39:48.527912Z"
    }
   },
   "outputs": [],
   "source": [
    "%reload_ext autoreload\n",
    "%autoreload 2\n",
    "%matplotlib inline"
   ]
  },
  {
   "cell_type": "code",
   "execution_count": null,
   "metadata": {
    "ExecuteTime": {
     "end_time": "2019-11-03T07:39:55.919842Z",
     "start_time": "2019-11-03T07:39:50.380052Z"
    }
   },
   "outputs": [],
   "source": [
    "import json\n",
    "from glob import glob\n",
    "from pathlib import Path\n",
    "from PIL import Image as Image_PIL\n",
    "import imghdr # built in module\n",
    "import numpy as np\n",
    "from fastai import *\n",
    "from fastai.vision import *\n",
    "from fastai.metrics import error_rate, accuracy\n",
    "import pandas as pd"
   ]
  },
  {
   "cell_type": "code",
   "execution_count": null,
   "metadata": {
    "ExecuteTime": {
     "end_time": "2019-11-03T07:39:56.140270Z",
     "start_time": "2019-11-03T07:39:55.922969Z"
    }
   },
   "outputs": [],
   "source": [
    "!which python"
   ]
  },
  {
   "cell_type": "markdown",
   "metadata": {},
   "source": [
    "# Paths"
   ]
  },
  {
   "cell_type": "code",
   "execution_count": null,
   "metadata": {
    "ExecuteTime": {
     "end_time": "2019-11-03T07:39:56.254705Z",
     "start_time": "2019-11-03T07:39:56.148728Z"
    }
   },
   "outputs": [],
   "source": [
    "# Data\n",
    "path_gdrive = Path.home() / 'Google Drive/mushrooms'\n",
    "data_folder = path_gdrive / 'data'\n",
    "\n",
    "\n",
    "# Project\n",
    "project_path = Path.home() / 'repos_github/mushroom-identifier/'\n",
    "app_path = project_path / 'app'\n",
    "model_path = app_path / 'models'"
   ]
  },
  {
   "cell_type": "markdown",
   "metadata": {},
   "source": [
    "## Load Mushroom Info"
   ]
  },
  {
   "cell_type": "code",
   "execution_count": null,
   "metadata": {
    "ExecuteTime": {
     "end_time": "2019-11-03T07:39:56.432647Z",
     "start_time": "2019-11-03T07:39:56.263146Z"
    }
   },
   "outputs": [],
   "source": [
    "df_mushrooms = pd.read_excel(project_path / 'data/mushrooms.xlsx', index_col=0)\n",
    "df_mushrooms.set_index('Index', inplace=True, drop=True)\n",
    "df_mushrooms.head()"
   ]
  },
  {
   "cell_type": "raw",
   "metadata": {
    "ExecuteTime": {
     "end_time": "2019-09-29T15:09:33.156119Z",
     "start_time": "2019-09-29T15:09:32.916762Z"
    }
   },
   "source": [
    "df = pd.read_csv(data_path / 'mushrooms_train.csv')\n",
    "# df = df[['image_name', 'tags']]\n",
    "print(df.head())"
   ]
  },
  {
   "cell_type": "markdown",
   "metadata": {},
   "source": [
    "## Create `labels.csv` file"
   ]
  },
  {
   "cell_type": "markdown",
   "metadata": {},
   "source": [
    "Settings to create dataset:"
   ]
  },
  {
   "cell_type": "code",
   "execution_count": null,
   "metadata": {
    "ExecuteTime": {
     "end_time": "2019-11-03T07:39:56.528378Z",
     "start_time": "2019-11-03T07:39:56.440286Z"
    }
   },
   "outputs": [],
   "source": [
    "# Max number of images to train\n",
    "n_img = 250\n",
    "\n",
    "# minimal number of images to consider\n",
    "min_n_img = 25"
   ]
  },
  {
   "cell_type": "code",
   "execution_count": null,
   "metadata": {
    "ExecuteTime": {
     "end_time": "2019-11-03T07:40:24.888346Z",
     "start_time": "2019-11-03T07:39:56.532766Z"
    }
   },
   "outputs": [],
   "source": [
    "df_labels = pd.DataFrame(columns=['name', 'labels'])\n",
    "for mushroom_type in df_mushrooms.index.tolist():\n",
    "    \n",
    "    current_mushroom = mushroom_type\n",
    "    \n",
    "    # Get list if images for this type of mushroom\n",
    "    imgs_mushroom_type = glob(f'{data_folder}/{current_mushroom}*.jpg')\n",
    "    nbr_images = len(imgs_mushroom_type)\n",
    "    \n",
    "    if len(imgs_mushroom_type) < min_n_img:\n",
    "        print(f'- Skipping {current_mushroom} because has a number of available images '\n",
    "              f'({nbr_images}), lower than {min_n_img} ...')\n",
    "    else:\n",
    "        print(f'- Adding {current_mushroom} images to df_label, ({nbr_images} available)...')\n",
    "        i = 1\n",
    "        for image in imgs_mushroom_type:\n",
    "            # import pdb; pdb.set_trace()\n",
    "            image = Path(image)\n",
    "            dict_img = {\n",
    "                    'name': Path(image).name,\n",
    "                    'labels': (f'{df_mushrooms.loc[df_mushrooms.index==current_mushroom, \"latin\"][0]};'\n",
    "                               #f'{df_mushrooms.loc[df_mushrooms.index==current_mushroom, \"name\"][0]};'\n",
    "                               #f'{df_mushrooms.loc[df_mushrooms.index==current_mushroom, \"edibility\"][0]};'\n",
    "                               f'{df_mushrooms.loc[df_mushrooms.index==current_mushroom, \"poisonous\"][0]}'\n",
    "                               #f'{df_mushrooms.loc[df_mushrooms.index==mushroom_, \"poisonous\"][0]};'\n",
    "                              )  \n",
    "                }\n",
    "            df_labels = df_labels.append(dict_img, ignore_index=True)\n",
    "            i += 1\n",
    "            if i >= n_img: break # print(f'  Reached n_img ({n_img})...')\n",
    "\n",
    "df_labels.to_csv(path_gdrive / 'labels.csv', index=False)"
   ]
  },
  {
   "cell_type": "code",
   "execution_count": null,
   "metadata": {
    "ExecuteTime": {
     "end_time": "2019-11-03T07:40:24.982019Z",
     "start_time": "2019-11-03T07:40:24.893875Z"
    }
   },
   "outputs": [],
   "source": [
    "len(df_labels)"
   ]
  },
  {
   "cell_type": "code",
   "execution_count": null,
   "metadata": {
    "ExecuteTime": {
     "end_time": "2019-11-03T07:40:25.099290Z",
     "start_time": "2019-11-03T07:40:24.999345Z"
    }
   },
   "outputs": [],
   "source": [
    "# len(df_labels['labels'].unique()) * n_img"
   ]
  },
  {
   "cell_type": "code",
   "execution_count": null,
   "metadata": {
    "ExecuteTime": {
     "end_time": "2019-11-03T07:40:25.193435Z",
     "start_time": "2019-11-03T07:40:25.103980Z"
    }
   },
   "outputs": [],
   "source": [
    "df_labels.head()"
   ]
  },
  {
   "cell_type": "raw",
   "metadata": {
    "ExecuteTime": {
     "end_time": "2019-10-20T20:04:23.962708Z",
     "start_time": "2019-10-20T20:04:23.860406Z"
    }
   },
   "source": [
    "df_labels.iloc[0,0]"
   ]
  },
  {
   "cell_type": "markdown",
   "metadata": {},
   "source": [
    "# Train the model"
   ]
  },
  {
   "cell_type": "markdown",
   "metadata": {},
   "source": [
    "## generate databunch"
   ]
  },
  {
   "cell_type": "markdown",
   "metadata": {},
   "source": [
    "Add some data augmentation with `get_transforms`:"
   ]
  },
  {
   "cell_type": "code",
   "execution_count": null,
   "metadata": {
    "ExecuteTime": {
     "end_time": "2019-11-03T07:40:25.284583Z",
     "start_time": "2019-11-03T07:40:25.200646Z"
    }
   },
   "outputs": [],
   "source": [
    "tfms = get_transforms(\n",
    "    flip_vert=True,\n",
    "    max_lighting=0.1,\n",
    "    max_zoom=1.05,\n",
    "    max_warp=0.5,\n",
    ")"
   ]
  },
  {
   "cell_type": "markdown",
   "metadata": {},
   "source": [
    "Define batch size, image size:"
   ]
  },
  {
   "cell_type": "code",
   "execution_count": null,
   "metadata": {
    "ExecuteTime": {
     "end_time": "2019-11-03T07:40:25.369468Z",
     "start_time": "2019-11-03T07:40:25.289192Z"
    }
   },
   "outputs": [],
   "source": [
    "bs = 32 # 64       # batch_size\n",
    "size = 128\n",
    "np.random.seed(42) # set random seed so we always get the same validation set"
   ]
  },
  {
   "cell_type": "markdown",
   "metadata": {},
   "source": [
    "Create an `ImageDataBunch` from `path` by splitting the data in folder and labelled in a file `csv_labels` between a training and validation set.\n",
    "\n",
    "Use `valid_pct` to indicate the percentage of the total images to use as the validation set. An optional test folder contains unlabelled data and suffix contains an optional suffix to add to the filenames in `csv_labels` (such as '.jpg').\n",
    "* `fn_col` is the index (or the name) of the the column containing the filenames and \n",
    "* `label_col` is the index (indices) (or the name(s)) of the column(s) containing the labels.\n",
    "* Use `header` to specify the format of the csv header, and\n",
    "* `delimiter` to specify a non-standard csv-field separator.\n",
    "\n",
    "In case your csv has no header, column parameters can only be specified as indices. If `label_delim` is passed, split what's in the label column according to that separator."
   ]
  },
  {
   "cell_type": "raw",
   "metadata": {
    "ExecuteTime": {
     "end_time": "2019-10-06T14:06:49.390394Z",
     "start_time": "2019-10-06T14:06:49.277461Z"
    }
   },
   "source": [
    "doc(ImageDataBunch)"
   ]
  },
  {
   "cell_type": "code",
   "execution_count": null,
   "metadata": {
    "ExecuteTime": {
     "end_time": "2019-11-03T07:40:25.624913Z",
     "start_time": "2019-11-03T07:40:25.375022Z"
    }
   },
   "outputs": [],
   "source": [
    "# src = (ImageList.from_csv(path_gdrive, 'labels.csv', folder=data_folder, suffix='.jpg')\n",
    "src = (ImageList.from_csv(path_gdrive, 'labels.csv', folder='data')\n",
    "       .split_by_rand_pct(0.2)\n",
    "       .label_from_df(label_delim=';'))"
   ]
  },
  {
   "cell_type": "markdown",
   "metadata": {
    "ExecuteTime": {
     "end_time": "2019-10-07T16:37:51.952349Z",
     "start_time": "2019-10-07T16:37:51.896387Z"
    }
   },
   "source": [
    "##### Train resnet34; image size=128 "
   ]
  },
  {
   "cell_type": "code",
   "execution_count": null,
   "metadata": {
    "ExecuteTime": {
     "end_time": "2019-11-03T07:40:30.632337Z",
     "start_time": "2019-11-03T07:40:25.629880Z"
    }
   },
   "outputs": [],
   "source": [
    "img_data = (src.transform(tfms, size=128)\n",
    "            .databunch()\n",
    "            .normalize(imagenet_stats))"
   ]
  },
  {
   "cell_type": "markdown",
   "metadata": {},
   "source": [
    "First image of the training dataset:"
   ]
  },
  {
   "cell_type": "raw",
   "metadata": {
    "ExecuteTime": {
     "end_time": "2019-11-03T07:18:23.456792Z",
     "start_time": "2019-11-03T07:18:23.321719Z"
    }
   },
   "source": [
    "img_data.train_ds[0]"
   ]
  },
  {
   "cell_type": "markdown",
   "metadata": {},
   "source": [
    "First image of the validation dataset:"
   ]
  },
  {
   "cell_type": "raw",
   "metadata": {
    "ExecuteTime": {
     "end_time": "2019-11-03T07:18:23.579922Z",
     "start_time": "2019-11-03T07:18:23.463421Z"
    }
   },
   "source": [
    "img_data.valid_ds[0]"
   ]
  },
  {
   "cell_type": "markdown",
   "metadata": {},
   "source": [
    "Show some images from the dataset:"
   ]
  },
  {
   "cell_type": "code",
   "execution_count": null,
   "metadata": {
    "ExecuteTime": {
     "end_time": "2019-11-03T07:40:36.620968Z",
     "start_time": "2019-11-03T07:40:30.635198Z"
    },
    "scrolled": true
   },
   "outputs": [],
   "source": [
    "img_data.show_batch(rows=3, figsize=(10,8))"
   ]
  },
  {
   "cell_type": "markdown",
   "metadata": {},
   "source": [
    "Number of classes in the dataset"
   ]
  },
  {
   "cell_type": "code",
   "execution_count": null,
   "metadata": {
    "ExecuteTime": {
     "end_time": "2019-11-03T07:40:36.719783Z",
     "start_time": "2019-11-03T07:40:36.623166Z"
    }
   },
   "outputs": [],
   "source": [
    "# Number of categories\n",
    "img_data.c"
   ]
  },
  {
   "cell_type": "raw",
   "metadata": {
    "ExecuteTime": {
     "end_time": "2019-11-03T07:18:28.575578Z",
     "start_time": "2019-11-03T07:18:28.507812Z"
    },
    "scrolled": true
   },
   "source": [
    "# Names of the categories\n",
    "img_data.classes"
   ]
  },
  {
   "cell_type": "markdown",
   "metadata": {},
   "source": [
    "Set a learner with resnet34 architecture"
   ]
  },
  {
   "cell_type": "code",
   "execution_count": null,
   "metadata": {
    "ExecuteTime": {
     "end_time": "2019-11-03T07:40:37.951235Z",
     "start_time": "2019-11-03T07:40:36.739640Z"
    }
   },
   "outputs": [],
   "source": [
    "# model = cnn_learner(img_data, models.resnet34, metrics=[accuracy, error_rate])\n",
    "# model = cnn_learner(img_data, models.resnet34, metrics=[error_rate])\n",
    "acc_02 = partial(accuracy_thresh, thresh=0.2)\n",
    "f_score = partial(fbeta, thresh=0.2)\n",
    "model = cnn_learner(img_data, models.resnet34, metrics=[acc_02, f_score])"
   ]
  },
  {
   "cell_type": "code",
   "execution_count": null,
   "metadata": {
    "ExecuteTime": {
     "end_time": "2019-11-03T07:53:42.632393Z",
     "start_time": "2019-11-03T07:40:37.953465Z"
    }
   },
   "outputs": [],
   "source": [
    "model.fit_one_cycle(1)"
   ]
  },
  {
   "cell_type": "code",
   "execution_count": null,
   "metadata": {
    "ExecuteTime": {
     "end_time": "2019-11-03T07:55:32.960063Z",
     "start_time": "2019-11-03T07:55:31.840425Z"
    }
   },
   "outputs": [],
   "source": [
    "model.save(path_gdrive / 'mushrooms_1_cycle')"
   ]
  },
  {
   "cell_type": "code",
   "execution_count": null,
   "metadata": {},
   "outputs": [],
   "source": []
  },
  {
   "cell_type": "code",
   "execution_count": null,
   "metadata": {
    "ExecuteTime": {
     "end_time": "2019-11-03T08:20:53.088131Z",
     "start_time": "2019-11-03T07:55:54.569762Z"
    }
   },
   "outputs": [],
   "source": [
    "model.fit_one_cycle(2)"
   ]
  },
  {
   "cell_type": "code",
   "execution_count": null,
   "metadata": {
    "ExecuteTime": {
     "end_time": "2019-11-03T08:20:53.749466Z",
     "start_time": "2019-11-03T08:20:53.094920Z"
    }
   },
   "outputs": [],
   "source": [
    "model.save('mushrooms_3_cycles')"
   ]
  },
  {
   "cell_type": "code",
   "execution_count": null,
   "metadata": {
    "ExecuteTime": {
     "end_time": "2019-11-03T08:22:01.347932Z",
     "start_time": "2019-11-03T08:20:53.752628Z"
    }
   },
   "outputs": [],
   "source": [
    "interpret = ClassificationInterpretation.from_learner(model)"
   ]
  },
  {
   "cell_type": "code",
   "execution_count": null,
   "metadata": {
    "ExecuteTime": {
     "end_time": "2019-11-03T09:01:34.883375Z",
     "start_time": "2019-11-03T09:01:34.438965Z"
    },
    "scrolled": true
   },
   "outputs": [],
   "source": [
    "interpret.plot_top_losses(4, figsize=(20, 25))"
   ]
  },
  {
   "cell_type": "code",
   "execution_count": null,
   "metadata": {
    "ExecuteTime": {
     "end_time": "2019-11-03T09:02:30.795567Z",
     "start_time": "2019-11-03T09:02:30.714307Z"
    }
   },
   "outputs": [],
   "source": [
    "interpret.plot_confusion_matrix(figsize=(20,20), dpi=60)"
   ]
  },
  {
   "cell_type": "code",
   "execution_count": null,
   "metadata": {
    "ExecuteTime": {
     "end_time": "2019-11-03T09:12:50.840105Z",
     "start_time": "2019-11-03T09:02:35.115918Z"
    }
   },
   "outputs": [],
   "source": [
    "model.lr_find()"
   ]
  },
  {
   "cell_type": "code",
   "execution_count": null,
   "metadata": {
    "ExecuteTime": {
     "end_time": "2019-11-03T09:15:24.411967Z",
     "start_time": "2019-11-03T09:15:23.918671Z"
    }
   },
   "outputs": [],
   "source": [
    "model.recorder.plot()"
   ]
  },
  {
   "cell_type": "code",
   "execution_count": null,
   "metadata": {
    "ExecuteTime": {
     "end_time": "2019-11-03T09:47:53.340062Z",
     "start_time": "2019-11-03T09:17:03.891708Z"
    }
   },
   "outputs": [],
   "source": [
    "model.unfreeze()\n",
    "model.fit_one_cycle(3, max_lr=slice(1e-03, 5e-02))"
   ]
  },
  {
   "cell_type": "code",
   "execution_count": null,
   "metadata": {
    "ExecuteTime": {
     "end_time": "2019-11-03T09:47:53.357009Z",
     "start_time": "2019-11-03T09:17:06.208Z"
    }
   },
   "outputs": [],
   "source": [
    "model.save('stage-1-128-rn34_lr_6_cycles')"
   ]
  },
  {
   "cell_type": "code",
   "execution_count": null,
   "metadata": {},
   "outputs": [],
   "source": [
    "model.fit_one_cycle(5, max_lr=slice(1e-03, 1e-02))"
   ]
  },
  {
   "cell_type": "markdown",
   "metadata": {},
   "source": [
    "## Train resnet34; image size=256"
   ]
  },
  {
   "cell_type": "code",
   "execution_count": null,
   "metadata": {
    "ExecuteTime": {
     "end_time": "2019-10-07T17:04:59.030205Z",
     "start_time": "2019-10-07T17:04:58.953815Z"
    }
   },
   "outputs": [],
   "source": [
    "img_data = (src.transform(tfms, size=256)\n",
    "            .databunch()\n",
    "            .normalize(imagenet_stats))"
   ]
  },
  {
   "cell_type": "code",
   "execution_count": null,
   "metadata": {},
   "outputs": [],
   "source": [
    "model.data = img_data"
   ]
  },
  {
   "cell_type": "code",
   "execution_count": null,
   "metadata": {},
   "outputs": [],
   "source": [
    "Veure minut 51 aprox del video Lesson 3, \n",
    "Do some data augmentation.\n",
    "Create new databunch with images of size=256"
   ]
  },
  {
   "cell_type": "code",
   "execution_count": null,
   "metadata": {},
   "outputs": [],
   "source": [
    "model.freeze()\n",
    "model.lr_find()\n",
    "model.recorder.plot()"
   ]
  },
  {
   "cell_type": "code",
   "execution_count": null,
   "metadata": {},
   "outputs": [],
   "source": [
    "lr = 1e-3/2\n",
    "model.fit_one_cycle(2, slice(lr))"
   ]
  },
  {
   "cell_type": "code",
   "execution_count": null,
   "metadata": {},
   "outputs": [],
   "source": [
    "model.fit_one_cycle(3, slice(lr))"
   ]
  },
  {
   "cell_type": "code",
   "execution_count": null,
   "metadata": {},
   "outputs": [],
   "source": [
    "model.save('train_final5_cycles')"
   ]
  },
  {
   "cell_type": "code",
   "execution_count": null,
   "metadata": {},
   "outputs": [],
   "source": [
    "model.load('train_final5_cycles')"
   ]
  },
  {
   "cell_type": "code",
   "execution_count": null,
   "metadata": {},
   "outputs": [],
   "source": [
    "model.export('export_resnet34_model.pkl')"
   ]
  },
  {
   "cell_type": "markdown",
   "metadata": {},
   "source": [
    "# Test model with other images:"
   ]
  },
  {
   "cell_type": "code",
   "execution_count": null,
   "metadata": {},
   "outputs": [],
   "source": [
    "learn = load_learner(model_path)"
   ]
  },
  {
   "cell_type": "code",
   "execution_count": null,
   "metadata": {},
   "outputs": [],
   "source": [
    "image_path = Path.home() / 'rovello.jpg'"
   ]
  },
  {
   "cell_type": "code",
   "execution_count": null,
   "metadata": {},
   "outputs": [],
   "source": [
    "img = open_image(image_path)"
   ]
  },
  {
   "cell_type": "raw",
   "metadata": {},
   "source": [
    "img = open_image(BytesIO(image_path))"
   ]
  },
  {
   "cell_type": "code",
   "execution_count": null,
   "metadata": {},
   "outputs": [],
   "source": [
    "Path.home() / 'rovello.jpg'"
   ]
  },
  {
   "cell_type": "code",
   "execution_count": null,
   "metadata": {},
   "outputs": [],
   "source": [
    "learn.predict(img)"
   ]
  },
  {
   "cell_type": "code",
   "execution_count": null,
   "metadata": {},
   "outputs": [],
   "source": [
    "Path.home()"
   ]
  },
  {
   "cell_type": "code",
   "execution_count": null,
   "metadata": {},
   "outputs": [],
   "source": []
  },
  {
   "cell_type": "code",
   "execution_count": null,
   "metadata": {},
   "outputs": [],
   "source": []
  },
  {
   "cell_type": "markdown",
   "metadata": {},
   "source": [
    "# Deploy Web Page with Elastic Beanstalk\n",
    "\n",
    "Tutorial Client: https://docs.aws.amazon.com/elasticbeanstalk/latest/dg/eb-cli3.html\n",
    "\n",
    "Titorial Bundle: https://docs.aws.amazon.com/elasticbeanstalk/latest/dg/applications-sourcebundle.html"
   ]
  },
  {
   "cell_type": "code",
   "execution_count": null,
   "metadata": {},
   "outputs": [],
   "source": []
  },
  {
   "cell_type": "code",
   "execution_count": null,
   "metadata": {},
   "outputs": [],
   "source": []
  },
  {
   "cell_type": "code",
   "execution_count": null,
   "metadata": {},
   "outputs": [],
   "source": []
  },
  {
   "cell_type": "markdown",
   "metadata": {
    "ExecuteTime": {
     "end_time": "2019-09-29T14:22:46.719526Z",
     "start_time": "2019-09-29T14:22:46.708815Z"
    }
   },
   "source": [
    "# References\n",
    "\n",
    "* [Fastai multi label](https://gilberttanner.com/blog/fastai-multi-label-image-classification)\n",
    "* [Google images scrapping](https://medium.com/@intprogrammer/how-to-scrape-google-for-images-to-train-your-machine-learning-classifiers-on-565076972ce)\n",
    "* [Basic mushroom info](https://bolets.info/)\n",
    "* [Mushroom names in Latin and additional info](https://ca.wikipedia.org/)\n",
    "* [Instagram @natros56](https://www.instagram.com/explore/tags/indexboletsnatros56_cat/)\n",
    "\n",
    "\n"
   ]
  },
  {
   "cell_type": "markdown",
   "metadata": {},
   "source": [
    "# Not Used"
   ]
  }
 ],
 "metadata": {
  "kernelspec": {
   "display_name": "Python [conda env:fastai]",
   "language": "python",
   "name": "conda-env-fastai-py"
  },
  "language_info": {
   "codemirror_mode": {
    "name": "ipython",
    "version": 3
   },
   "file_extension": ".py",
   "mimetype": "text/x-python",
   "name": "python",
   "nbconvert_exporter": "python",
   "pygments_lexer": "ipython3",
   "version": "3.7.4"
  },
  "toc": {
   "base_numbering": 1,
   "nav_menu": {},
   "number_sections": true,
   "sideBar": true,
   "skip_h1_title": false,
   "title_cell": "Table of Contents",
   "title_sidebar": "Contents",
   "toc_cell": false,
   "toc_position": {},
   "toc_section_display": true,
   "toc_window_display": true
  }
 },
 "nbformat": 4,
 "nbformat_minor": 2
}
